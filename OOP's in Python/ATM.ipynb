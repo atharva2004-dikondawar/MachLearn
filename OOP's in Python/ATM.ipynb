{
 "cells": [
  {
   "cell_type": "code",
   "execution_count": 19,
   "id": "955ab962-8ee7-4d5f-b038-982cadc1ecda",
   "metadata": {},
   "outputs": [],
   "source": [
    "class Atm:\n",
    "\n",
    "    # Constructor(__init__):- special/magic/dunder methods which gets executedc as the obj of particular class is created.\n",
    "    # instance variable:- it is a variable inside the constructor whose value is differebt for different variables.\n",
    "    \n",
    "    def __init__(self):\n",
    "\n",
    "        self.__pin = \"\"\n",
    "        self.__balance = 0\n",
    "        \n",
    "        print(id(self))\n",
    "        \n",
    "        self.__menu()\n",
    "\n",
    "    def get_pin(self):\n",
    "        return self.__pin\n",
    "        \n",
    "    def set_pin(self,new_pin):\n",
    "        if type(new_pin) == str:\n",
    "            self.__pin=new_pin\n",
    "            print('Pin changed')\n",
    "        else:\n",
    "            print('Not allowed')\n",
    "            \n",
    "    def __menu(self):\n",
    "        user_input = input(\"\"\"\n",
    "                        Hello, how would you like to proceed? \n",
    "                        1. Enter 1 to create pin\n",
    "                        2. Enter 2 to withdraw\n",
    "                        3. Enter 3 to deposit\n",
    "                        5. Enter 4 to check balance\n",
    "                        6. Enter 5 to exit\n",
    "        \"\"\")\n",
    "        if user_input == \"1\":\n",
    "            self.create_pin()\n",
    "        elif user_input == \"2\":\n",
    "            self.withdraw()\n",
    "        elif user_input == \"3\":\n",
    "            self.deposit()\n",
    "        elif user_input == \"4\":\n",
    "            self.check_balance()\n",
    "        else:\n",
    "            print(\"bye\")\n",
    "\n",
    "    def create_pin(self):\n",
    "        self.__pin = input(\"Enter Your pin.\")\n",
    "        print(\"Pin set successfully.\")\n",
    "\n",
    "    def deposit(self):\n",
    "        temp = input(\"Enter your pin.\")\n",
    "        if temp == self.__pin:\n",
    "            amount = int(input(\"Enter the amount.\"))\n",
    "            self.__balance = self.__balance + amount\n",
    "            print(\"Deposit Successfull.\")\n",
    "        else:\n",
    "            print(\"Invalid pin.\")\n",
    "\n",
    "    def withdraw(self):\n",
    "        temp = input(\"Enter your pin.\")\n",
    "        if temp == self.__pin:\n",
    "            amount = int(input(\"Enter the amount.\"))\n",
    "            if (amount<self.__balance):\n",
    "                self.__balance = self.__balance - amount\n",
    "                print(\"withdraw Successfull.\")\n",
    "            else:\n",
    "                print(\"not enough balance to withdraw.\")\n",
    "        else:\n",
    "            print(\"Invalid pin.\")\n",
    "\n",
    "    def check_balance(self):\n",
    "        temp = input(\"Enter your pin.\")\n",
    "        if temp == self.__pin:\n",
    "            print(self.__balance)\n",
    "        else:\n",
    "            print(\"Invalid pin\")"
   ]
  },
  {
   "cell_type": "code",
   "execution_count": 20,
   "id": "72112d9a-e5f9-4a60-a704-18639949b372",
   "metadata": {},
   "outputs": [
    {
     "name": "stdout",
     "output_type": "stream",
     "text": [
      "2977679308496\n"
     ]
    },
    {
     "name": "stdin",
     "output_type": "stream",
     "text": [
      "\n",
      "                        Hello, how would you like to proceed? \n",
      "                        1. Enter 1 to create pin\n",
      "                        2. Enter 2 to withdraw\n",
      "                        3. Enter 3 to deposit\n",
      "                        5. Enter 4 to check balance\n",
      "                        6. Enter 5 to exit\n",
      "         1\n",
      "Enter Your pin. 123\n"
     ]
    },
    {
     "name": "stdout",
     "output_type": "stream",
     "text": [
      "Pin set successfully.\n"
     ]
    }
   ],
   "source": [
    "sbi = Atm()"
   ]
  },
  {
   "cell_type": "code",
   "execution_count": 3,
   "id": "6673f045-5e4b-47a3-a2a2-00319ceeb670",
   "metadata": {},
   "outputs": [
    {
     "data": {
      "text/plain": [
       "2977679704336"
      ]
     },
     "execution_count": 3,
     "metadata": {},
     "output_type": "execute_result"
    }
   ],
   "source": [
    "id(sbi) # sbi is itself self"
   ]
  },
  {
   "cell_type": "code",
   "execution_count": 4,
   "id": "40b591bc-5933-42cd-a874-e81c43945474",
   "metadata": {},
   "outputs": [
    {
     "name": "stdout",
     "output_type": "stream",
     "text": [
      "2977679821328\n"
     ]
    },
    {
     "name": "stdin",
     "output_type": "stream",
     "text": [
      "\n",
      "                        Hello, how would you like to proceed? \n",
      "                        1. Enter 1 to create pin\n",
      "                        2. Enter 2 to withdraw\n",
      "                        3. Enter 3 to deposit\n",
      "                        5. Enter 4 to check balance\n",
      "                        6. Enter 5 to exit\n",
      "         1\n",
      "Enter Your pin. 123\n"
     ]
    },
    {
     "name": "stdout",
     "output_type": "stream",
     "text": [
      "Pin set successfully.\n"
     ]
    }
   ],
   "source": [
    "hdfc = Atm()"
   ]
  },
  {
   "cell_type": "code",
   "execution_count": 5,
   "id": "f3c89199-369f-4bb4-93b1-13dda157469e",
   "metadata": {},
   "outputs": [
    {
     "data": {
      "text/plain": [
       "2977679821328"
      ]
     },
     "execution_count": 5,
     "metadata": {},
     "output_type": "execute_result"
    }
   ],
   "source": [
    "id(hdfc)  # hdfc is itself self"
   ]
  },
  {
   "cell_type": "code",
   "execution_count": 6,
   "id": "41c7781d-aaac-4686-b143-46cb1ae03688",
   "metadata": {},
   "outputs": [],
   "source": [
    "# self :- it is nothing but the obj that we are working with currently\n",
    "# why their is a need of self in class?\n",
    "#  --> 1. basic fundamental of class is that it has only data and methods which can only be \n",
    "#         accessesd by the object of that class.\n",
    "#      2. hence even the other methods in the class can not accesses rest of the methods of the \n",
    "#         same class.\n",
    "#      3. but we can see that in above class we are accessing 'menu' method by '__init__' method,\n",
    "#         situation like this will come many times, so to access them succesfully we requires the same \n",
    "#         object, which will come again and again as self for every methods of that class."
   ]
  },
  {
   "cell_type": "code",
   "execution_count": 7,
   "id": "2ca6ebaa-e463-44e5-91ed-e58849b6c015",
   "metadata": {},
   "outputs": [
    {
     "name": "stdin",
     "output_type": "stream",
     "text": [
      "Enter your pin. 123\n",
      "Enter the amount. 1000\n"
     ]
    },
    {
     "name": "stdout",
     "output_type": "stream",
     "text": [
      "Deposit Successfull.\n"
     ]
    }
   ],
   "source": [
    "sbi.deposit()"
   ]
  },
  {
   "cell_type": "code",
   "execution_count": 8,
   "id": "6deebed8-71f2-4818-b686-4a349a7b0ae7",
   "metadata": {},
   "outputs": [
    {
     "name": "stdin",
     "output_type": "stream",
     "text": [
      "Enter your pin. 123\n",
      "Enter the amount. 200\n"
     ]
    },
    {
     "name": "stdout",
     "output_type": "stream",
     "text": [
      "withdraw Successfull.\n"
     ]
    }
   ],
   "source": [
    "sbi.withdraw()"
   ]
  },
  {
   "cell_type": "code",
   "execution_count": 9,
   "id": "1be06254-6ad2-4f2a-a08d-12692db1dd59",
   "metadata": {},
   "outputs": [
    {
     "name": "stdin",
     "output_type": "stream",
     "text": [
      "Enter your pin. 123\n"
     ]
    },
    {
     "name": "stdout",
     "output_type": "stream",
     "text": [
      "800\n"
     ]
    }
   ],
   "source": [
    "sbi.check_balance()"
   ]
  },
  {
   "cell_type": "code",
   "execution_count": 10,
   "id": "dbefe9b5-9c9b-41a4-97d7-6286c50758af",
   "metadata": {},
   "outputs": [
    {
     "name": "stdin",
     "output_type": "stream",
     "text": [
      "Enter your pin. 123\n"
     ]
    },
    {
     "name": "stdout",
     "output_type": "stream",
     "text": [
      "0\n"
     ]
    }
   ],
   "source": [
    "hdfc.check_balance()"
   ]
  },
  {
   "cell_type": "code",
   "execution_count": 11,
   "id": "2cf7f669-8138-42f5-9e92-60c0f5fa1e44",
   "metadata": {},
   "outputs": [
    {
     "name": "stdin",
     "output_type": "stream",
     "text": [
      "Enter your pin. 123\n",
      "Enter the amount. 2000\n"
     ]
    },
    {
     "name": "stdout",
     "output_type": "stream",
     "text": [
      "Deposit Successfull.\n"
     ]
    }
   ],
   "source": [
    "hdfc.deposit()"
   ]
  },
  {
   "cell_type": "code",
   "execution_count": 12,
   "id": "59a32add-520c-4ebc-9ac2-cec9d60741f3",
   "metadata": {},
   "outputs": [
    {
     "name": "stdin",
     "output_type": "stream",
     "text": [
      "Enter your pin. 123\n"
     ]
    },
    {
     "name": "stdout",
     "output_type": "stream",
     "text": [
      "2000\n"
     ]
    }
   ],
   "source": [
    "hdfc.check_balance()"
   ]
  },
  {
   "cell_type": "code",
   "execution_count": 13,
   "id": "6a971517-c85d-4429-be60-4cc768516c49",
   "metadata": {},
   "outputs": [
    {
     "name": "stdin",
     "output_type": "stream",
     "text": [
      "Enter your pin. 123\n",
      "Enter the amount. 400\n"
     ]
    },
    {
     "name": "stdout",
     "output_type": "stream",
     "text": [
      "withdraw Successfull.\n"
     ]
    }
   ],
   "source": [
    "hdfc.withdraw()"
   ]
  },
  {
   "cell_type": "code",
   "execution_count": 14,
   "id": "4ca56768-1abe-4b94-acc2-fad8685ef63b",
   "metadata": {},
   "outputs": [
    {
     "name": "stdin",
     "output_type": "stream",
     "text": [
      "Enter your pin. 123\n"
     ]
    },
    {
     "name": "stdout",
     "output_type": "stream",
     "text": [
      "1600\n"
     ]
    }
   ],
   "source": [
    "hdfc.check_balance()"
   ]
  },
  {
   "cell_type": "code",
   "execution_count": 15,
   "id": "28aaa2b4-608c-4f69-880f-fcc7b24bf840",
   "metadata": {},
   "outputs": [
    {
     "name": "stdin",
     "output_type": "stream",
     "text": [
      "Enter your pin. 123\n"
     ]
    },
    {
     "name": "stdout",
     "output_type": "stream",
     "text": [
      "800\n"
     ]
    }
   ],
   "source": [
    "sbi.check_balance()"
   ]
  },
  {
   "cell_type": "code",
   "execution_count": 18,
   "id": "e2029b65-5315-4a1c-9ba0-271f4443ce0e",
   "metadata": {},
   "outputs": [
    {
     "data": {
      "text/plain": [
       "'123'"
      ]
     },
     "execution_count": 18,
     "metadata": {},
     "output_type": "execute_result"
    }
   ],
   "source": [
    "sbi._Atm__pin  # even the data members are hidden using'__' but we can access them from this code\n",
    "#obj._class__DataMember = \"by this we can even change the value of DataMember\""
   ]
  },
  {
   "cell_type": "code",
   "execution_count": 22,
   "id": "9f2fb86b-b2bf-463c-acf5-13c6d11b1e7f",
   "metadata": {},
   "outputs": [
    {
     "data": {
      "text/plain": [
       "'123'"
      ]
     },
     "execution_count": 22,
     "metadata": {},
     "output_type": "execute_result"
    }
   ],
   "source": [
    "sbi.get_pin()"
   ]
  },
  {
   "cell_type": "code",
   "execution_count": 23,
   "id": "0e8b7183-d7f0-4ff8-afb6-ab31f96d8b4a",
   "metadata": {},
   "outputs": [
    {
     "name": "stdout",
     "output_type": "stream",
     "text": [
      "Pin changed\n"
     ]
    }
   ],
   "source": [
    "sbi.set_pin('1234')"
   ]
  },
  {
   "cell_type": "code",
   "execution_count": 24,
   "id": "f60b8ad0-3066-4722-a63b-a938a46c2a15",
   "metadata": {},
   "outputs": [
    {
     "data": {
      "text/plain": [
       "'1234'"
      ]
     },
     "execution_count": 24,
     "metadata": {},
     "output_type": "execute_result"
    }
   ],
   "source": [
    "sbi.get_pin()"
   ]
  },
  {
   "cell_type": "code",
   "execution_count": 25,
   "id": "044c16cc-308b-4558-97bd-325811679c70",
   "metadata": {},
   "outputs": [],
   "source": [
    "# ENCAPSULATION:\n",
    "# WHAT IS THE NEED?\n",
    "# --> WE CAN NOT PUBLIC OUR DATA MEMBERS. \n",
    "# --> WE NEED TO MAKE THEM PRIVATE BY '__'.\n",
    "# --> AND WE NEED TO MAKE THEM MUTABLE BY SETTING SETER FUNCTION\n",
    "#     , ACCESSIBLE BY GETER FUNVTION.\n",
    "# draw the Atm class diagram?\n",
    "# ------------------------\n",
    "#           Atm\n",
    "# ------------------------\n",
    "#          -pin\n",
    "#          -balance\n",
    "# ------------------------\n",
    "#          -__init__(_)\n",
    "#           - menu()\n",
    "#           + get_pin()\n",
    "#           + set_pin()\n",
    "#           + create_pin()\n",
    "#           + Deposit()\n",
    "#           + withdraw()\n",
    "#           + check_balance()\n",
    "# -------------------------"
   ]
  },
  {
   "cell_type": "code",
   "execution_count": 27,
   "id": "02eadb85-3e8d-491e-9451-83b7531e621a",
   "metadata": {},
   "outputs": [],
   "source": [
    "#  sbi = Atm() here sbi is a \"referrence variable\" which points to the address where Atm() is."
   ]
  },
  {
   "cell_type": "code",
   "execution_count": null,
   "id": "8a401c4a-df5f-4804-990b-8cc8b5333057",
   "metadata": {},
   "outputs": [],
   "source": []
  }
 ],
 "metadata": {
  "kernelspec": {
   "display_name": "Python 3 (ipykernel)",
   "language": "python",
   "name": "python3"
  },
  "language_info": {
   "codemirror_mode": {
    "name": "ipython",
    "version": 3
   },
   "file_extension": ".py",
   "mimetype": "text/x-python",
   "name": "python",
   "nbconvert_exporter": "python",
   "pygments_lexer": "ipython3",
   "version": "3.11.5"
  }
 },
 "nbformat": 4,
 "nbformat_minor": 5
}
