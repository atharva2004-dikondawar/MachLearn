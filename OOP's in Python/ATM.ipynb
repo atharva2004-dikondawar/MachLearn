{
 "cells": [
  {
   "cell_type": "code",
   "execution_count": 29,
   "id": "955ab962-8ee7-4d5f-b038-982cadc1ecda",
   "metadata": {},
   "outputs": [],
   "source": [
    "class Atm:\n",
    "\n",
    "    # Constructor(__init__):- special/magic/dunder methods which gets executedc as the obj of particular class is created.\n",
    "    \n",
    "    def __init__(self):\n",
    "\n",
    "        self.pin = \"\"\n",
    "        self.balance = 0\n",
    "        print(id(self))\n",
    "        self.menu()\n",
    "\n",
    "    def menu(self):\n",
    "        user_input = input(\"\"\"\n",
    "                        Hello, how would you like to proceed? \n",
    "                        1. Enter 1 to create pin\n",
    "                        2. Enter 2 to withdraw\n",
    "                        3. Enter 3 to deposit\n",
    "                        5. Enter 4 to check balance\n",
    "                        6. Enter 5 to exit\n",
    "        \"\"\")\n",
    "        if user_input == \"1\":\n",
    "            self.create_pin()\n",
    "        elif user_input == \"2\":\n",
    "            self.withdraw()\n",
    "        elif user_input == \"3\":\n",
    "            self.deposit()\n",
    "        elif user_input == \"4\":\n",
    "            self.check_balance()\n",
    "        else:\n",
    "            print(\"bye\")\n",
    "\n",
    "    def create_pin(self):\n",
    "        self.pin = input(\"Enter Your pin.\")\n",
    "        print(\"Pin set successfully.\")\n",
    "\n",
    "    def deposit(self):\n",
    "        temp = input(\"Enter your pin.\")\n",
    "        if temp == self.pin:\n",
    "            amount = int(input(\"Enter the amount.\"))\n",
    "            self.balance = self.balance + amount\n",
    "            print(\"Deposit Successfull.\")\n",
    "        else:\n",
    "            print(\"Invalid pin.\")\n",
    "\n",
    "    def withdraw(self):\n",
    "        temp = input(\"Enter your pin.\")\n",
    "        if temp == self.pin:\n",
    "            amount = int(input(\"Enter the amount.\"))\n",
    "            if (amount<self.balance):\n",
    "                self.balance = self.balance - amount\n",
    "                print(\"withdraw Successfull.\")\n",
    "            else:\n",
    "                print(\"not enough balance to withdraw.\")\n",
    "        else:\n",
    "            print(\"Invalid pin.\")\n",
    "\n",
    "    def check_balance(self):\n",
    "        temp = input(\"Enter your pin.\")\n",
    "        if temp == self.pin:\n",
    "            print(self.balance)\n",
    "        else:\n",
    "            print(\"Invalid pin\")"
   ]
  },
  {
   "cell_type": "code",
   "execution_count": 30,
   "id": "72112d9a-e5f9-4a60-a704-18639949b372",
   "metadata": {},
   "outputs": [
    {
     "name": "stdout",
     "output_type": "stream",
     "text": [
      "1534516639120\n"
     ]
    },
    {
     "name": "stdin",
     "output_type": "stream",
     "text": [
      "\n",
      "                        Hello, how would you like to proceed? \n",
      "                        1. Enter 1 to create pin\n",
      "                        2. Enter 2 to withdraw\n",
      "                        3. Enter 3 to deposit\n",
      "                        5. Enter 4 to check balance\n",
      "                        6. Enter 5 to exit\n",
      "         1234\n"
     ]
    },
    {
     "name": "stdout",
     "output_type": "stream",
     "text": [
      "bye\n"
     ]
    }
   ],
   "source": [
    "sbi = Atm()"
   ]
  },
  {
   "cell_type": "code",
   "execution_count": 32,
   "id": "6673f045-5e4b-47a3-a2a2-00319ceeb670",
   "metadata": {},
   "outputs": [
    {
     "data": {
      "text/plain": [
       "1534516639120"
      ]
     },
     "execution_count": 32,
     "metadata": {},
     "output_type": "execute_result"
    }
   ],
   "source": [
    "id(sbi) # sbi is itself self"
   ]
  },
  {
   "cell_type": "code",
   "execution_count": 34,
   "id": "40b591bc-5933-42cd-a874-e81c43945474",
   "metadata": {},
   "outputs": [
    {
     "name": "stdout",
     "output_type": "stream",
     "text": [
      "1534512164624\n"
     ]
    },
    {
     "name": "stdin",
     "output_type": "stream",
     "text": [
      "\n",
      "                        Hello, how would you like to proceed? \n",
      "                        1. Enter 1 to create pin\n",
      "                        2. Enter 2 to withdraw\n",
      "                        3. Enter 3 to deposit\n",
      "                        5. Enter 4 to check balance\n",
      "                        6. Enter 5 to exit\n",
      "         123\n"
     ]
    },
    {
     "name": "stdout",
     "output_type": "stream",
     "text": [
      "bye\n"
     ]
    }
   ],
   "source": [
    "hdfc = Atm()"
   ]
  },
  {
   "cell_type": "code",
   "execution_count": 36,
   "id": "f3c89199-369f-4bb4-93b1-13dda157469e",
   "metadata": {},
   "outputs": [
    {
     "data": {
      "text/plain": [
       "1534512164624"
      ]
     },
     "execution_count": 36,
     "metadata": {},
     "output_type": "execute_result"
    }
   ],
   "source": [
    "id(hdfc)  # hdfc is itself self"
   ]
  },
  {
   "cell_type": "code",
   "execution_count": 38,
   "id": "41c7781d-aaac-4686-b143-46cb1ae03688",
   "metadata": {},
   "outputs": [],
   "source": [
    "# self :- it is nothing but the obj that we are working with currently\n",
    "# why their is a need of self in class?\n",
    "#  --> 1. basic fundamental of class is that it has only data and methods which can only be \n",
    "#         accessesd by the object of that class.\n",
    "#      2. hence even the other methods in the class can not accesses rest of the methods of the \n",
    "#         same class.\n",
    "#      3. but we can see that in above class we are accessing 'menu' method by '__init__' method,\n",
    "#         situation like this will come many times, so to access them succesfully we requires the same \n",
    "#         object, which will come again and again as self for every methods of that class."
   ]
  },
  {
   "cell_type": "code",
   "execution_count": 14,
   "id": "2ca6ebaa-e463-44e5-91ed-e58849b6c015",
   "metadata": {},
   "outputs": [
    {
     "name": "stdin",
     "output_type": "stream",
     "text": [
      "Enter your pin. 1234\n",
      "Enter the amount. 1000\n"
     ]
    },
    {
     "name": "stdout",
     "output_type": "stream",
     "text": [
      "Deposit Successfull.\n"
     ]
    }
   ],
   "source": [
    "sbi.deposit()"
   ]
  },
  {
   "cell_type": "code",
   "execution_count": 15,
   "id": "6deebed8-71f2-4818-b686-4a349a7b0ae7",
   "metadata": {},
   "outputs": [
    {
     "name": "stdin",
     "output_type": "stream",
     "text": [
      "Enter your pin. 1234\n",
      "Enter the amount. 670\n"
     ]
    },
    {
     "name": "stdout",
     "output_type": "stream",
     "text": [
      "withdraw Successfull.\n"
     ]
    }
   ],
   "source": [
    "sbi.withdraw()"
   ]
  },
  {
   "cell_type": "code",
   "execution_count": 16,
   "id": "1be06254-6ad2-4f2a-a08d-12692db1dd59",
   "metadata": {},
   "outputs": [
    {
     "name": "stdin",
     "output_type": "stream",
     "text": [
      "Enter your pin. 1234\n"
     ]
    },
    {
     "name": "stdout",
     "output_type": "stream",
     "text": [
      "330\n"
     ]
    }
   ],
   "source": [
    "sbi.check_balance()"
   ]
  },
  {
   "cell_type": "code",
   "execution_count": 19,
   "id": "2b851beb-8d0a-45fa-b5d7-e19a0987c1ae",
   "metadata": {},
   "outputs": [
    {
     "name": "stdin",
     "output_type": "stream",
     "text": [
      "\n",
      "                        Hello, how would you like to proceed? \n",
      "                        1. Enter 1 to create pin\n",
      "                        2. Enter 2 to withdraw\n",
      "                        3. Enter 3 to deposit\n",
      "                        5. Enter 4 to check balance\n",
      "                        5. Enter 5 to exit\n",
      "         1\n",
      "Enter Your pin. 1234\n"
     ]
    },
    {
     "name": "stdout",
     "output_type": "stream",
     "text": [
      "Pin set successfully.\n"
     ]
    }
   ],
   "source": [
    "hdfc = Atm()"
   ]
  },
  {
   "cell_type": "code",
   "execution_count": 21,
   "id": "dbefe9b5-9c9b-41a4-97d7-6286c50758af",
   "metadata": {},
   "outputs": [
    {
     "name": "stdin",
     "output_type": "stream",
     "text": [
      "Enter your pin. 1234\n"
     ]
    },
    {
     "name": "stdout",
     "output_type": "stream",
     "text": [
      "0\n"
     ]
    }
   ],
   "source": [
    "hdfc.check_balance()"
   ]
  },
  {
   "cell_type": "code",
   "execution_count": 22,
   "id": "2cf7f669-8138-42f5-9e92-60c0f5fa1e44",
   "metadata": {},
   "outputs": [
    {
     "name": "stdin",
     "output_type": "stream",
     "text": [
      "Enter your pin. 1234\n",
      "Enter the amount. 100000\n"
     ]
    },
    {
     "name": "stdout",
     "output_type": "stream",
     "text": [
      "Deposit Successfull.\n"
     ]
    }
   ],
   "source": [
    "hdfc.deposit()"
   ]
  },
  {
   "cell_type": "code",
   "execution_count": 23,
   "id": "59a32add-520c-4ebc-9ac2-cec9d60741f3",
   "metadata": {},
   "outputs": [
    {
     "name": "stdin",
     "output_type": "stream",
     "text": [
      "Enter your pin. 1234\n"
     ]
    },
    {
     "name": "stdout",
     "output_type": "stream",
     "text": [
      "100000\n"
     ]
    }
   ],
   "source": [
    "hdfc.check_balance()"
   ]
  },
  {
   "cell_type": "code",
   "execution_count": 24,
   "id": "6a971517-c85d-4429-be60-4cc768516c49",
   "metadata": {},
   "outputs": [
    {
     "name": "stdin",
     "output_type": "stream",
     "text": [
      "Enter your pin. 1234\n",
      "Enter the amount. 75000\n"
     ]
    },
    {
     "name": "stdout",
     "output_type": "stream",
     "text": [
      "withdraw Successfull.\n"
     ]
    }
   ],
   "source": [
    "hdfc.withdraw()"
   ]
  },
  {
   "cell_type": "code",
   "execution_count": 25,
   "id": "4ca56768-1abe-4b94-acc2-fad8685ef63b",
   "metadata": {},
   "outputs": [
    {
     "name": "stdin",
     "output_type": "stream",
     "text": [
      "Enter your pin. 1234\n"
     ]
    },
    {
     "name": "stdout",
     "output_type": "stream",
     "text": [
      "25000\n"
     ]
    }
   ],
   "source": [
    "hdfc.check_balance()"
   ]
  },
  {
   "cell_type": "code",
   "execution_count": 26,
   "id": "28aaa2b4-608c-4f69-880f-fcc7b24bf840",
   "metadata": {},
   "outputs": [
    {
     "name": "stdin",
     "output_type": "stream",
     "text": [
      "Enter your pin. 1234\n"
     ]
    },
    {
     "name": "stdout",
     "output_type": "stream",
     "text": [
      "330\n"
     ]
    }
   ],
   "source": [
    "sbi.check_balance()"
   ]
  },
  {
   "cell_type": "code",
   "execution_count": null,
   "id": "e2029b65-5315-4a1c-9ba0-271f4443ce0e",
   "metadata": {},
   "outputs": [],
   "source": []
  }
 ],
 "metadata": {
  "kernelspec": {
   "display_name": "Python 3 (ipykernel)",
   "language": "python",
   "name": "python3"
  },
  "language_info": {
   "codemirror_mode": {
    "name": "ipython",
    "version": 3
   },
   "file_extension": ".py",
   "mimetype": "text/x-python",
   "name": "python",
   "nbconvert_exporter": "python",
   "pygments_lexer": "ipython3",
   "version": "3.11.5"
  }
 },
 "nbformat": 4,
 "nbformat_minor": 5
}
