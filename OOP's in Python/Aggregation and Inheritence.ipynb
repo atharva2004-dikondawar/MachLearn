{
 "cells": [
  {
   "cell_type": "markdown",
   "id": "c9a06eda-3ba8-4889-bd4e-a6ba497d3888",
   "metadata": {},
   "source": [
    "Aggregation :- it is a \"Has-a\" type of relationship between the classes, as given below the relation between the customer and Address class is that the customer class has address class in it itself and calls the the change_address method of the Address class while editing the profile."
   ]
  },
  {
   "cell_type": "code",
   "execution_count": 67,
   "id": "fa06b542-6be0-4a30-9e97-aae9704c4f0a",
   "metadata": {},
   "outputs": [
    {
     "data": {
      "text/plain": [
       "'Gujrat'"
      ]
     },
     "execution_count": 67,
     "metadata": {},
     "output_type": "execute_result"
    }
   ],
   "source": [
    "class Customer:\n",
    "\n",
    "    def __init__(self,name,gender,address):\n",
    "        self.name = name\n",
    "        self.gender = gender\n",
    "        self.address = address\n",
    "\n",
    "    def edit_profile(self,new_name,new_city,new_pincode,new_state):\n",
    "        self.name = new_name\n",
    "        self.address.change_address(new_city,new_pincode,new_state)\n",
    "\n",
    "class Address:\n",
    "    \n",
    "    def __init__(self,city,pincode,state):\n",
    "        self.city = city\n",
    "        self.pincode = pincode\n",
    "        self.state = state\n",
    "\n",
    "    def change_address(self,new_city,new_pincode,new_state):\n",
    "        self.city = new_city\n",
    "        self.pincode = new_pincode\n",
    "        self.state = new_state\n",
    "\n",
    "add = Address(\"Pune\",4330,\"Maharashtra\")\n",
    "cust = Customer(\"Atharva\",\"Male\",add)  # giving Address class object as argument to Customer class obj.\n",
    "\n",
    "cust.edit_profile(\"Aryan\",\"dwarka\",4004,\"Gujrat\")\n",
    "cust.address.state"
   ]
  },
  {
   "cell_type": "raw",
   "id": "2d336c0e-1c07-4578-9ca1-29e5cace2834",
   "metadata": {},
   "source": [
    "Inheritence :- \n",
    "1.A property in oop's where a class(child) can inherit the \"data members\", \"methods\", \"constructor\" from another class(parent) ,\n",
    "But it can not inherit the private members(i.e __abc), \n",
    ", parent class can not access the data of child class."
   ]
  },
  {
   "cell_type": "code",
   "execution_count": 72,
   "id": "55a4647e-6102-4319-b184-c1f0b1b93abf",
   "metadata": {},
   "outputs": [
    {
     "name": "stdout",
     "output_type": "stream",
     "text": [
      "Enroll\n",
      "Login\n",
      "Register\n",
      "Review\n"
     ]
    }
   ],
   "source": [
    "class User:\n",
    "\n",
    "    def login(self):\n",
    "        print(\"Login\")\n",
    "\n",
    "    def register(self):\n",
    "        print(\"Register\")\n",
    "\n",
    "class Student(User):  # telling student class is a child class of User class(parent class)\n",
    "    def enroll(self):\n",
    "        print(\"Enroll\")\n",
    "\n",
    "    def review(self):\n",
    "        print(\"Review\")\n",
    "\n",
    "stu1 = Student()\n",
    "\n",
    "stu1.enroll()\n",
    "stu1.login()\n",
    "stu1.register()\n",
    "stu1.review()"
   ]
  },
  {
   "cell_type": "markdown",
   "id": "b16468e8-54c9-456e-93e2-e5b4f48e1ae3",
   "metadata": {},
   "source": [
    "(1). Inheriting constructor"
   ]
  },
  {
   "cell_type": "code",
   "execution_count": 79,
   "id": "5c9a544a-f9ab-471d-9507-1d18fd1d22e9",
   "metadata": {},
   "outputs": [
    {
     "name": "stdout",
     "output_type": "stream",
     "text": [
      "Inside phone constructor\n",
      "apple\n"
     ]
    }
   ],
   "source": [
    "class Phone:\n",
    "    def __init__(self, price, brand, camera):\n",
    "        print(\"Inside phone constructor\")\n",
    "        self.price = price\n",
    "        self.brand = brand\n",
    "        self.camera = camera\n",
    "\n",
    "class SmartPhone(Phone):\n",
    "    pass\n",
    "\n",
    "s = SmartPhone(20000,\"apple\",13)\n",
    "print(s.brand)"
   ]
  },
  {
   "cell_type": "markdown",
   "id": "3c0fc478-96ae-4529-b0df-9bf08b42d408",
   "metadata": {},
   "source": [
    "(2). Inheriting private members. (will brig error)"
   ]
  },
  {
   "cell_type": "code",
   "execution_count": 82,
   "id": "3c517b3b-bbe4-4aad-99a0-f9fd012a81f0",
   "metadata": {},
   "outputs": [
    {
     "name": "stdout",
     "output_type": "stream",
     "text": [
      "Inside phone constructor\n"
     ]
    },
    {
     "ename": "AttributeError",
     "evalue": "'SmartPhone' object has no attribute '__brand'",
     "output_type": "error",
     "traceback": [
      "\u001b[1;31m---------------------------------------------------------------------------\u001b[0m",
      "\u001b[1;31mAttributeError\u001b[0m                            Traceback (most recent call last)",
      "Cell \u001b[1;32mIn[82], line 12\u001b[0m\n\u001b[0;32m      9\u001b[0m     \u001b[38;5;28;01mpass\u001b[39;00m\n\u001b[0;32m     11\u001b[0m s \u001b[38;5;241m=\u001b[39m SmartPhone(\u001b[38;5;241m20000\u001b[39m,\u001b[38;5;124m\"\u001b[39m\u001b[38;5;124mapple\u001b[39m\u001b[38;5;124m\"\u001b[39m,\u001b[38;5;241m13\u001b[39m)\n\u001b[1;32m---> 12\u001b[0m \u001b[38;5;28mprint\u001b[39m(s\u001b[38;5;241m.\u001b[39m__brand)\n",
      "\u001b[1;31mAttributeError\u001b[0m: 'SmartPhone' object has no attribute '__brand'"
     ]
    }
   ],
   "source": [
    "class Phone:\n",
    "    def __init__(self, price, brand, camera):\n",
    "        print(\"Inside phone constructor\")\n",
    "        self.price = price\n",
    "        self.__brand = brand\n",
    "        self.camera = camera\n",
    "\n",
    "class SmartPhone(Phone):\n",
    "    pass\n",
    "\n",
    "s = SmartPhone(20000,\"apple\",13)\n",
    "print(s.__brand)"
   ]
  },
  {
   "cell_type": "raw",
   "id": "38723ece-ac1a-4bd9-b334-eb9d16d826b0",
   "metadata": {},
   "source": [
    "Polymorphism has include 3 things:\n",
    "1. Method Overriding\n",
    "2. Method Overloading\n",
    "3. Operator Overloading"
   ]
  },
  {
   "cell_type": "code",
   "execution_count": 86,
   "id": "bc1e9c90-929f-4828-8d50-4db583e155c0",
   "metadata": {},
   "outputs": [
    {
     "name": "stdout",
     "output_type": "stream",
     "text": [
      "inside phone constructor\n",
      "Buying a SmartPhone\n"
     ]
    }
   ],
   "source": [
    "# METHOD OVERRIDING :- if two classes(parent and child) have same methods then the\n",
    "# method of child class is executted when that method is called by an obj of that class.\n",
    "\n",
    "class Phone:\n",
    "    def __init__(self,price,brand,camera):\n",
    "\n",
    "        print(\"inside phone constructor\")\n",
    "        self.price = price\n",
    "        self.brand = brand\n",
    "        self.camera = camera\n",
    "\n",
    "    def buy(self):\n",
    "        print(\"Buying a phone\")\n",
    "\n",
    "class SmartPhone(Phone):\n",
    "    def buy(self):\n",
    "        print(\"Buying a SmartPhone\")\n",
    "\n",
    "s = SmartPhone(20000,\"Apple\",13)\n",
    "s.buy()"
   ]
  },
  {
   "cell_type": "code",
   "execution_count": 89,
   "id": "ee4a2847-2059-4e06-a69a-93fe4ccd06da",
   "metadata": {},
   "outputs": [
    {
     "name": "stdout",
     "output_type": "stream",
     "text": [
      "100\n",
      "This is in child class\n"
     ]
    }
   ],
   "source": [
    "# BASIC INHERITENCE PROGRAM:\n",
    "\n",
    "class Parent:\n",
    "\n",
    "    def __init__(self,num):\n",
    "        self.__num = num\n",
    "\n",
    "    def get_num(self):\n",
    "        return self.__num\n",
    "\n",
    "class Child(Parent):\n",
    "    def show(self):\n",
    "        print(\"This is in child class\")\n",
    "\n",
    "son = Child(100)\n",
    "print(son.get_num())\n",
    "son.show()\n",
    "    "
   ]
  },
  {
   "cell_type": "code",
   "execution_count": 96,
   "id": "9cb1b428-1709-40b5-ba0c-bec6c18b1eba",
   "metadata": {},
   "outputs": [
    {
     "name": "stdout",
     "output_type": "stream",
     "text": [
      "100\n"
     ]
    }
   ],
   "source": [
    "# if the child class does not have constructor then the constructor of parent is invoked,\n",
    "# but if the child class have the constructor then the constructor of parent is never invoked. \n",
    "\n",
    "class Parent:\n",
    "\n",
    "    def __init__(self,num):\n",
    "        self.__num = num\n",
    "\n",
    "    def get_num(self):\n",
    "        return self.__num\n",
    "\n",
    "class Child(Parent):\n",
    "    def __init__(self,val,num):\n",
    "        self.__val=val\n",
    "    def get_val(self):\n",
    "        return self.__val\n",
    "\n",
    "son = Child(100,10)\n",
    "# print(\"Parent Num:\",son.get_num())    This line will invoke error.\n",
    "print(son.get_val())\n",
    "    "
   ]
  },
  {
   "cell_type": "code",
   "execution_count": 100,
   "id": "8179ee9d-9281-429e-bec3-fe8c41145829",
   "metadata": {},
   "outputs": [
    {
     "name": "stdout",
     "output_type": "stream",
     "text": [
      "class A 100\n"
     ]
    }
   ],
   "source": [
    "class A:\n",
    "\n",
    "    def __init__(self):\n",
    "        self.var1  = 100\n",
    "\n",
    "    def display1(self,var1):\n",
    "        print(\"class A\",self.var1)\n",
    "\n",
    "class B(A):\n",
    "    \n",
    "    def display2(self,var1):\n",
    "        print(\"class B\",self.var1)\n",
    "\n",
    "obj = B()\n",
    "obj.display1(200)"
   ]
  },
  {
   "cell_type": "markdown",
   "id": "13625e7e-e513-4195-9dd9-703a91b59fed",
   "metadata": {},
   "source": [
    "USER OF SUPER() ."
   ]
  },
  {
   "cell_type": "code",
   "execution_count": 106,
   "id": "5b1cd171-8972-4d84-92fe-76c1387f38e4",
   "metadata": {},
   "outputs": [
    {
     "name": "stdout",
     "output_type": "stream",
     "text": [
      "inside phone constructor\n",
      "Buying a SmartPhone\n",
      "Buying a phone\n"
     ]
    }
   ],
   "source": [
    "class Phone:\n",
    "    def __init__(self,price,brand,camera):\n",
    "        print(\"inside phone constructor\")\n",
    "        self.price = price\n",
    "        self.brand = brand\n",
    "        self.camera = camera\n",
    "\n",
    "    def buy(self):\n",
    "        print(\"Buying a phone\")\n",
    "\n",
    "class SmartPhone(Phone):\n",
    "    \n",
    "    def buy(self):\n",
    "        print(\"Buying a SmartPhone\")\n",
    "        super().buy()              ## accessing the buy() method of the parent class  \n",
    "s = SmartPhone(20000,\"Apple\",13)\n",
    "s.buy()\n",
    "# super().buy() ## This can not be done here.\n",
    "#  using super() method we can only access the methods and the constructor not the data members"
   ]
  },
  {
   "cell_type": "code",
   "execution_count": 117,
   "id": "3caffcb5-6482-4c86-b1ed-7c89a808133b",
   "metadata": {},
   "outputs": [
    {
     "name": "stdout",
     "output_type": "stream",
     "text": [
      "inside phone constructor\n",
      "20000\n",
      "Inside smartphone constructor\n",
      "Android\n",
      "Apple\n",
      "20000\n",
      "2\n",
      "13\n"
     ]
    }
   ],
   "source": [
    "# example 2 of super()\n",
    "\n",
    "class Phone:\n",
    "    def __init__(self,price,brand,camera):\n",
    "        print(\"inside phone constructor\")\n",
    "        self.price = price\n",
    "        self.brand = brand\n",
    "        self.camera = camera\n",
    "        print(self.price)\n",
    "\n",
    "class SmartPhone(Phone):\n",
    "    def __init__(self,price,brand,camera,os,ram):\n",
    "        super().__init__(price,brand,camera)\n",
    "        self.os = os\n",
    "        self.ram = ram\n",
    "        print(\"Inside smartphone constructor\")\n",
    "    \n",
    "s = SmartPhone(20000,\"Apple\",13,\"Android\",2)\n",
    "\n",
    "print(s.os)\n",
    "print(s.brand)\n",
    "print(s.price)\n",
    "print(s.ram)\n",
    "print(s.camera)"
   ]
  },
  {
   "cell_type": "code",
   "execution_count": 120,
   "id": "94739bb3-969f-4d1b-98c9-efa588f5f6b8",
   "metadata": {},
   "outputs": [
    {
     "name": "stdout",
     "output_type": "stream",
     "text": [
      "100\n",
      "200\n"
     ]
    }
   ],
   "source": [
    "#  Example 3 of super()\n",
    "\n",
    "class Parent:\n",
    "\n",
    "    def __init__(self,num):\n",
    "        self.__num = num\n",
    "\n",
    "    def get_num(self):\n",
    "        return self.__num\n",
    "\n",
    "class Child(Parent):\n",
    "    \n",
    "    def __init__(self,num,val):\n",
    "        super().__init__(num)\n",
    "        self.__val=val\n",
    "        \n",
    "    def get_val(self):\n",
    "        return self.__val\n",
    "\n",
    "son = Child(100,200)\n",
    "print(son.get_num())\n",
    "print(son.get_val())"
   ]
  },
  {
   "cell_type": "code",
   "execution_count": 122,
   "id": "ebf87416-f15c-4f16-a7be-8ff9b4ffde26",
   "metadata": {},
   "outputs": [
    {
     "name": "stdout",
     "output_type": "stream",
     "text": [
      "100\n",
      "200\n"
     ]
    }
   ],
   "source": [
    "#  Example 4 of super()\n",
    "\n",
    "class Parent:\n",
    "\n",
    "    def __init__(self):\n",
    "        self.num=100\n",
    "\n",
    "class Child(Parent):\n",
    "\n",
    "    def __init__(self):\n",
    "        super().__init__()\n",
    "        self.var=200\n",
    "\n",
    "    def show(self):\n",
    "        print(self.num)   # here we are calling the attribute of parent inside the child noy outside.\n",
    "        print(self.var)\n",
    "\n",
    "son = Child()\n",
    "son.show()"
   ]
  },
  {
   "cell_type": "code",
   "execution_count": 123,
   "id": "d7e5331a-311a-4897-b50d-fdbd0bc5ce7e",
   "metadata": {},
   "outputs": [
    {
     "name": "stdout",
     "output_type": "stream",
     "text": [
      "100\n",
      "200\n"
     ]
    }
   ],
   "source": [
    "#  Example 5 of super()\n",
    "\n",
    "class Parent:\n",
    "\n",
    "    def __init__(self):\n",
    "        self.num=100\n",
    "\n",
    "    def show(self):\n",
    "        print(self.num)   \n",
    "\n",
    "class Child(Parent):\n",
    "\n",
    "    def __init__(self):\n",
    "        super().__init__()\n",
    "        self.var=200\n",
    "\n",
    "    def show(self):\n",
    "        print(self.var)\n",
    "\n",
    "dad = Parent()\n",
    "dad.show()\n",
    "son=Child()\n",
    "son.show()"
   ]
  },
  {
   "cell_type": "raw",
   "id": "c7ab23da-bbfb-40a0-bc8b-60c9bf67659a",
   "metadata": {},
   "source": [
    "TYPES OF INHERITENCE:\n",
    "1. SINGLE LEVEL INHERITENCE\n",
    "2. MULTI LEVEL INHERITENCE\n",
    "3. HIERARCHIAL INHERITENCE\n",
    "4. MULTIPLE INHERITENCE"
   ]
  },
  {
   "cell_type": "code",
   "execution_count": 125,
   "id": "a36e1039-ca3c-431f-a1eb-90b33e2bd42f",
   "metadata": {},
   "outputs": [
    {
     "name": "stdout",
     "output_type": "stream",
     "text": [
      "inside phone constructor\n",
      "Buying a phone\n"
     ]
    }
   ],
   "source": [
    "# 1. SINGLE LEVEL INHERITENCE\n",
    "\n",
    "class Phone:\n",
    "    def __init__(self,price,brand,camera):\n",
    "        print(\"inside phone constructor\")\n",
    "        self.price = price\n",
    "        self.brand = brand\n",
    "        self.camera = camera\n",
    "\n",
    "    def buy(self):\n",
    "        print(\"Buying a phone\")\n",
    "\n",
    "    def return_phone(self):\n",
    "        print(\"Returning a phone\")\n",
    "        \n",
    "class SmartPhone(Phone):\n",
    "    pass\n",
    "    \n",
    "smp = SmartPhone(20000,\"Apple\",13)\n",
    "smp.buy()"
   ]
  },
  {
   "cell_type": "code",
   "execution_count": 131,
   "id": "29730408-b0e2-4371-8948-0f58d5e4a7a7",
   "metadata": {},
   "outputs": [
    {
     "name": "stdout",
     "output_type": "stream",
     "text": [
      "inside phone constructor\n",
      "inside phone constructor\n",
      "Buying a phone\n",
      "Product customer review\n",
      "Product customer review\n"
     ]
    }
   ],
   "source": [
    "# 2. MULTI LEVEL INHERITENCE\n",
    "class Product:\n",
    "    def review(self):\n",
    "        print(\"Product customer review\")\n",
    "        \n",
    "class Phone(Product):\n",
    "    def __init__(self,price,brand,camera):\n",
    "        print(\"inside phone constructor\")\n",
    "        self.price = price\n",
    "        self.brand = brand\n",
    "        self.camera = camera\n",
    "\n",
    "    def buy(self):\n",
    "        print(\"Buying a phone\")\n",
    "\n",
    "class SmartPhone(Phone):\n",
    "    pass\n",
    "    \n",
    "s = SmartPhone(20000,\"Apple\",13)\n",
    "p = Phone(100000,\"Apple\",14)\n",
    "\n",
    "s.buy()\n",
    "s.review()\n",
    "p.review()"
   ]
  },
  {
   "cell_type": "code",
   "execution_count": 2,
   "id": "1bda46d9-519b-4fab-9102-1e6af4c8ee26",
   "metadata": {},
   "outputs": [
    {
     "name": "stdout",
     "output_type": "stream",
     "text": [
      "inside phone constructor\n",
      "Buying a phone\n"
     ]
    }
   ],
   "source": [
    "# 3. HIERARCHICAL INHERITENCE\n",
    "\n",
    "class Phone:\n",
    "    def __init__(self,price,brand,camera):\n",
    "        print(\"inside phone constructor\")\n",
    "        self.__price = price\n",
    "        self.brand = brand\n",
    "        self.camera = camera\n",
    "\n",
    "\n",
    "    def buy(self):\n",
    "        print(\"Buying a phone\")\n",
    "\n",
    "    def return_phone(self):\n",
    "        print(\"Returning a phone\")\n",
    "\n",
    "class SmartPhone(Phone):\n",
    "    pass\n",
    "\n",
    "class FeaturePhone(Phone):\n",
    "    pass \n",
    "    \n",
    "SmartPhone(1000,\"Apple\",\"13px\").buy()"
   ]
  },
  {
   "cell_type": "code",
   "execution_count": 5,
   "id": "5205fbbf-bc31-4a87-bd6b-856a52370b75",
   "metadata": {},
   "outputs": [
    {
     "name": "stdout",
     "output_type": "stream",
     "text": [
      "inside phone constructor\n",
      "Returning a phone\n",
      "Customer review\n"
     ]
    }
   ],
   "source": [
    "# 4. MULTIPLE INHERITENCE\n",
    "\n",
    "class Phone:\n",
    "    def __init__(self,price,brand,camera):\n",
    "        print(\"inside phone constructor\")\n",
    "        self.__price = price\n",
    "        self.brand = brand\n",
    "        self.camera = camera\n",
    "\n",
    "    def buy(self):\n",
    "        print(\"Buying a phone\")\n",
    "\n",
    "    def return_phone(self):\n",
    "        print(\"Returning a phone\")\n",
    "\n",
    "class Product:\n",
    "    def review(self):\n",
    "        print(\"Customer review\")\n",
    "\n",
    "class SmartPhone(Phone,Product):\n",
    "    pass\n",
    "\n",
    "s=SmartPhone(2000,\"apple\",12)\n",
    "s.return_phone()\n",
    "s.review()"
   ]
  },
  {
   "cell_type": "code",
   "execution_count": 7,
   "id": "b20bfd6b-85f7-4149-b646-933f63b5c5cc",
   "metadata": {},
   "outputs": [
    {
     "name": "stdout",
     "output_type": "stream",
     "text": [
      "inside phone constructor\n",
      "Buying a phone\n"
     ]
    }
   ],
   "source": [
    "# MRO :- method resolution order means the order in which we inherited the class will\n",
    "#        be responsible for the execution of the conflicting methods. \n",
    "\n",
    "class Phone:\n",
    "    def __init__(self,price,brand,camera):\n",
    "        print(\"inside phone constructor\")\n",
    "        self.__price = price\n",
    "        self.brand = brand\n",
    "        self.camera = camera\n",
    "\n",
    "    def buy(self):\n",
    "        print(\"Buying a phone\")\n",
    "\n",
    "class Product:\n",
    "    def buy(self):\n",
    "        print(\"Product buy method\")\n",
    "\n",
    "class SmartPhone(Phone,Product):  \n",
    "    pass\n",
    "\n",
    "s=SmartPhone(2000,\"apple\",12)\n",
    "s.buy()"
   ]
  },
  {
   "cell_type": "code",
   "execution_count": 11,
   "id": "02ae7553-7cd2-463b-b96c-6b322f50c2ab",
   "metadata": {},
   "outputs": [
    {
     "name": "stdout",
     "output_type": "stream",
     "text": [
      "70\n"
     ]
    }
   ],
   "source": [
    "class A:\n",
    "\n",
    "    def m1(self):\n",
    "        return 20\n",
    "\n",
    "class B(A):\n",
    "\n",
    "    def m1(self):\n",
    "        return 30\n",
    "    def m2(self):\n",
    "        return 40\n",
    "\n",
    "class C(B):\n",
    "\n",
    "    def m2(self):\n",
    "        return 20\n",
    "\n",
    "obj1 = A()\n",
    "obj2 = B()\n",
    "obj3 = C()\n",
    "print(obj1.m1() + obj2.m1() + obj3.m2())"
   ]
  },
  {
   "cell_type": "code",
   "execution_count": 14,
   "id": "86112365-33a6-4eb1-80aa-4a666788607f",
   "metadata": {},
   "outputs": [
    {
     "ename": "RecursionError",
     "evalue": "maximum recursion depth exceeded",
     "output_type": "error",
     "traceback": [
      "\u001b[1;31m---------------------------------------------------------------------------\u001b[0m",
      "\u001b[1;31mRecursionError\u001b[0m                            Traceback (most recent call last)",
      "Cell \u001b[1;32mIn[14], line 17\u001b[0m\n\u001b[0;32m     14\u001b[0m         \u001b[38;5;28;01mreturn\u001b[39;00m val\n\u001b[0;32m     16\u001b[0m obj \u001b[38;5;241m=\u001b[39m C()\n\u001b[1;32m---> 17\u001b[0m \u001b[38;5;28mprint\u001b[39m(obj\u001b[38;5;241m.\u001b[39mm1())\n",
      "Cell \u001b[1;32mIn[14], line 12\u001b[0m, in \u001b[0;36mC.m1\u001b[1;34m(self)\u001b[0m\n\u001b[0;32m     11\u001b[0m \u001b[38;5;28;01mdef\u001b[39;00m \u001b[38;5;21mm1\u001b[39m(\u001b[38;5;28mself\u001b[39m):\n\u001b[1;32m---> 12\u001b[0m     val \u001b[38;5;241m=\u001b[39m \u001b[38;5;28mself\u001b[39m\u001b[38;5;241m.\u001b[39mm1() \u001b[38;5;241m+\u001b[39m \u001b[38;5;241m20\u001b[39m  \u001b[38;5;66;03m# here as the m1 method was called below and here also self.m1() --> obj.m1()\u001b[39;00m\n\u001b[0;32m     13\u001b[0m                           \u001b[38;5;66;03m#  which will cause back to back calling of m1 function and max recursion depth will bwe exceeded and the eror will come.   \u001b[39;00m\n\u001b[0;32m     14\u001b[0m     \u001b[38;5;28;01mreturn\u001b[39;00m val\n",
      "Cell \u001b[1;32mIn[14], line 12\u001b[0m, in \u001b[0;36mC.m1\u001b[1;34m(self)\u001b[0m\n\u001b[0;32m     11\u001b[0m \u001b[38;5;28;01mdef\u001b[39;00m \u001b[38;5;21mm1\u001b[39m(\u001b[38;5;28mself\u001b[39m):\n\u001b[1;32m---> 12\u001b[0m     val \u001b[38;5;241m=\u001b[39m \u001b[38;5;28mself\u001b[39m\u001b[38;5;241m.\u001b[39mm1() \u001b[38;5;241m+\u001b[39m \u001b[38;5;241m20\u001b[39m  \u001b[38;5;66;03m# here as the m1 method was called below and here also self.m1() --> obj.m1()\u001b[39;00m\n\u001b[0;32m     13\u001b[0m                           \u001b[38;5;66;03m#  which will cause back to back calling of m1 function and max recursion depth will bwe exceeded and the eror will come.   \u001b[39;00m\n\u001b[0;32m     14\u001b[0m     \u001b[38;5;28;01mreturn\u001b[39;00m val\n",
      "    \u001b[1;31m[... skipping similar frames: C.m1 at line 12 (2971 times)]\u001b[0m\n",
      "Cell \u001b[1;32mIn[14], line 12\u001b[0m, in \u001b[0;36mC.m1\u001b[1;34m(self)\u001b[0m\n\u001b[0;32m     11\u001b[0m \u001b[38;5;28;01mdef\u001b[39;00m \u001b[38;5;21mm1\u001b[39m(\u001b[38;5;28mself\u001b[39m):\n\u001b[1;32m---> 12\u001b[0m     val \u001b[38;5;241m=\u001b[39m \u001b[38;5;28mself\u001b[39m\u001b[38;5;241m.\u001b[39mm1() \u001b[38;5;241m+\u001b[39m \u001b[38;5;241m20\u001b[39m  \u001b[38;5;66;03m# here as the m1 method was called below and here also self.m1() --> obj.m1()\u001b[39;00m\n\u001b[0;32m     13\u001b[0m                           \u001b[38;5;66;03m#  which will cause back to back calling of m1 function and max recursion depth will bwe exceeded and the eror will come.   \u001b[39;00m\n\u001b[0;32m     14\u001b[0m     \u001b[38;5;28;01mreturn\u001b[39;00m val\n",
      "\u001b[1;31mRecursionError\u001b[0m: maximum recursion depth exceeded"
     ]
    }
   ],
   "source": [
    "class A:\n",
    "    def m1(self):\n",
    "        return 20\n",
    "\n",
    "class B(A):\n",
    "    def m1(self):\n",
    "        val = super().m1 + 30\n",
    "        return val\n",
    "\n",
    "class C(B):\n",
    "    def m1(self):\n",
    "        val = self.m1() + 20  # here as the m1 method was called below and here also self.m1() --> obj.m1()\n",
    "                              #  which will cause back to back calling of m1 function and max recursion depth will bwe exceeded and the eror will come.   \n",
    "        return val\n",
    "\n",
    "obj = C()\n",
    "print(obj.m1())  # we are acessing the m1 method by obj.m1"
   ]
  },
  {
   "cell_type": "raw",
   "id": "89f451c1-7c97-4567-8568-47c3cf9e67c7",
   "metadata": {},
   "source": [
    "METHOD OVERLOADING :- if a same method gets different i/p's then their behaviour changes."
   ]
  },
  {
   "cell_type": "code",
   "execution_count": 20,
   "id": "5ed4c26f-5eb5-48dc-82ec-7114d6e553e3",
   "metadata": {},
   "outputs": [
    {
     "ename": "TypeError",
     "evalue": "Geometry.area() missing 1 required positional argument: 'b'",
     "output_type": "error",
     "traceback": [
      "\u001b[1;31m---------------------------------------------------------------------------\u001b[0m",
      "\u001b[1;31mTypeError\u001b[0m                                 Traceback (most recent call last)",
      "Cell \u001b[1;32mIn[20], line 10\u001b[0m\n\u001b[0;32m      7\u001b[0m         \u001b[38;5;28;01mreturn\u001b[39;00m l\u001b[38;5;241m*\u001b[39mb\n\u001b[0;32m      9\u001b[0m obj \u001b[38;5;241m=\u001b[39m Geometry()\n\u001b[1;32m---> 10\u001b[0m \u001b[38;5;28mprint\u001b[39m(obj\u001b[38;5;241m.\u001b[39marea(\u001b[38;5;241m1\u001b[39m))\n",
      "\u001b[1;31mTypeError\u001b[0m: Geometry.area() missing 1 required positional argument: 'b'"
     ]
    }
   ],
   "source": [
    "# this program will not run bcz method overloading is not possible in python but valid in java\n",
    "class Geometry:\n",
    "\n",
    "    def area(self,radius):\n",
    "        return 3.14 * radius * radius\n",
    "\n",
    "    def area(self,l,b):\n",
    "        return l*b\n",
    "\n",
    "obj = Geometry()\n",
    "print(obj.area(1))"
   ]
  },
  {
   "cell_type": "code",
   "execution_count": 21,
   "id": "2665e446-606e-4a11-9583-013831684e4c",
   "metadata": {},
   "outputs": [
    {
     "name": "stdout",
     "output_type": "stream",
     "text": [
      "Circle 50.24\n",
      "Rect 10\n"
     ]
    }
   ],
   "source": [
    "# the above program can be executed by another method(jugaad)\n",
    "class Geometry:\n",
    "    def area(self,a,b=0):\n",
    "        if b==0:\n",
    "            print(\"Circle\",3.14*a*a)\n",
    "        else:\n",
    "            print(\"Rect\",a*b)\n",
    "\n",
    "obj = Geometry()\n",
    "obj.area(4)\n",
    "obj.area(5,2)"
   ]
  },
  {
   "cell_type": "raw",
   "id": "04fb9976-75c6-48f1-aaa5-30c6a056d636",
   "metadata": {},
   "source": []
  }
 ],
 "metadata": {
  "kernelspec": {
   "display_name": "Python 3 (ipykernel)",
   "language": "python",
   "name": "python3"
  },
  "language_info": {
   "codemirror_mode": {
    "name": "ipython",
    "version": 3
   },
   "file_extension": ".py",
   "mimetype": "text/x-python",
   "name": "python",
   "nbconvert_exporter": "python",
   "pygments_lexer": "ipython3",
   "version": "3.11.5"
  }
 },
 "nbformat": 4,
 "nbformat_minor": 5
}
