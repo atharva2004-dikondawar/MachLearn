{
 "cells": [
  {
   "cell_type": "markdown",
   "id": "80f91167-6199-458b-8ba3-d2ef38268fdf",
   "metadata": {},
   "source": [
    "1. we can pass an object of class to function as we pass int,str,list,dict,etc. "
   ]
  },
  {
   "cell_type": "code",
   "execution_count": 5,
   "id": "86ce79aa-cb8d-4663-a57c-bd3f72924f71",
   "metadata": {},
   "outputs": [
    {
     "name": "stdout",
     "output_type": "stream",
     "text": [
      "Hello Arya maam\n"
     ]
    }
   ],
   "source": [
    "class Customer:   # created a class 'Customer'.\n",
    "\n",
    "    def __init__(self,name,gender):  # created a constructor __init__ which takes name and gender as argument.\n",
    "        self.name = name\n",
    "        self.gender = gender\n",
    "\n",
    "def greet(customer):    # we have created a normal function greet.\n",
    "    if customer.gender == \"Male\":\n",
    "        print(\"Hello\",customer.name,\"sir\")\n",
    "    else:\n",
    "        print(\"Hello\",customer.name,\"maam\")\n",
    "        \n",
    "cust = Customer(\"Arya\",\"Female\") # created a object 'cust' of class 'Customer',with i/p as name and gender.\n",
    "\n",
    "greet(cust)     # we are calling 'greet' function by passing a 'cust' object."
   ]
  },
  {
   "cell_type": "markdown",
   "id": "555a77f0-1366-48cc-872c-9fae45782c45",
   "metadata": {},
   "source": [
    "2. we can return same object(of class Customer but with different name) from a same greet function."
   ]
  },
  {
   "cell_type": "code",
   "execution_count": 15,
   "id": "e6e3e271-8064-4bb6-9d0d-fbea9cb967cd",
   "metadata": {},
   "outputs": [
    {
     "name": "stdout",
     "output_type": "stream",
     "text": [
      "id of cust: 1975387099536\n",
      "id of customer: 1975387099536\n",
      "id of cust2: 1975373596304\n",
      "id of new_cust: 1975373596304\n",
      "Atharva\n",
      "140706619691816 140706619691816\n"
     ]
    }
   ],
   "source": [
    "class Customer:   # created a class 'Customer'.\n",
    "\n",
    "    def __init__(self,name):  # created a constructor __init__ which takes name as argument.\n",
    "        self.name = name\n",
    "\n",
    "def greet(customer):    # we have created a normal function greet.\n",
    "       \n",
    "    print(\"id of customer:\",id(customer))\n",
    "    \n",
    "    cust2 = Customer(\"Atharva\") # created 'cust2' obj of class Customer.     \n",
    "    print(\"id of cust2:\",id(cust2))\n",
    "    \n",
    "    return cust2 # greet function returns cust2 object.\n",
    "        \n",
    "cust = Customer(\"Arya\") # created a object 'cust' of class 'Customer',with i/p as name.\n",
    "print(\"id of cust:\",id(cust))\n",
    "new_cust = greet(cust)     # we are calling 'greet' function by passing a 'cust' object and assigning the return value to another obj 'new_cust'.\n",
    "print(\"id of new_cust:\",id(new_cust))\n",
    "print(new_cust.name)\n",
    "# Aliasing:\n",
    "a = 1\n",
    "b = a\n",
    "print(id(a),id(b))"
   ]
  },
  {
   "cell_type": "markdown",
   "id": "5ab17b45-3008-48a2-b651-0d9277eb33be",
   "metadata": {},
   "source": [
    "3. the object of class are mutable like list,dict and sets."
   ]
  },
  {
   "cell_type": "code",
   "execution_count": 25,
   "id": "50aa3796-10d6-46ed-ab4b-cfea04e549de",
   "metadata": {},
   "outputs": [
    {
     "name": "stdout",
     "output_type": "stream",
     "text": [
      "1975391115344\n",
      "1975391115344\n",
      "1975391115344\n",
      "ram\n"
     ]
    }
   ],
   "source": [
    "class Customer:   \n",
    "    def __init__(self,name):   \n",
    "       self.name = name\n",
    "\n",
    "def greet(customer):\n",
    "    print(id(customer))\n",
    "    customer.name = \"ram\"\n",
    "    print(id(customer))\n",
    "    \n",
    "cust = Customer(\"laxman\")\n",
    "print(id(cust))\n",
    "\n",
    "greet(cust)\n",
    "\n",
    "print(cust.name)\n",
    " "
   ]
  },
  {
   "cell_type": "markdown",
   "id": "3457a033-3659-44e9-a985-c55fd332a443",
   "metadata": {},
   "source": [
    "4. collection of obects "
   ]
  },
  {
   "cell_type": "code",
   "execution_count": 28,
   "id": "9c08ed4b-ee6b-4bc5-bfc6-98e3002242ab",
   "metadata": {},
   "outputs": [
    {
     "name": "stdout",
     "output_type": "stream",
     "text": [
      "i am nitish and i am 23\n",
      "i am amit and i am 21\n",
      "i am ayaan and i am 20\n"
     ]
    }
   ],
   "source": [
    "class Customer:\n",
    "    def __init__(self,name,age):\n",
    "        self.name = name\n",
    "        self.age = age\n",
    "\n",
    "    def intro(self):\n",
    "        print(\"i am\",self.name,\"and i am\",self.age)\n",
    "        \n",
    "\n",
    "c1 = Customer(\"nitish\",23)\n",
    "c2 = Customer(\"amit\",21)\n",
    "c3 = Customer(\"ayaan\",20)\n",
    "L = [c1,c2,c3] # list of objects. and we can treate this list as any other list.\n",
    "\n",
    "for i in L:\n",
    "    i.intro()"
   ]
  },
  {
   "cell_type": "markdown",
   "id": "378cfc56-d671-416e-a6f1-b3bed678cf17",
   "metadata": {},
   "source": [
    "5. static/class variable :- the value of this variable is same for all the objects.\n",
    "6. static method :- function that only deals withb static var and can be accessed by class not by obj.\n",
    "    "
   ]
  },
  {
   "cell_type": "code",
   "execution_count": 46,
   "id": "be65c90b-3749-4844-843b-e1441d0953a2",
   "metadata": {},
   "outputs": [
    {
     "name": "stdout",
     "output_type": "stream",
     "text": [
      "1\n",
      "2\n",
      "3\n"
     ]
    },
    {
     "data": {
      "text/plain": [
       "5"
      ]
     },
     "execution_count": 46,
     "metadata": {},
     "output_type": "execute_result"
    }
   ],
   "source": [
    "class Customer:\n",
    "    #  static/class variable.\n",
    "    __counter = 1\n",
    "    def __init__(self):\n",
    "        # instance var.\n",
    "        self.__pin = \"\"\n",
    "        self.__balance = 0\n",
    "        self.sno = Customer.__counter\n",
    "        Customer.__counter = Customer.__counter + 1\n",
    "\n",
    "    def get_counter(): # static methods does not require obj to access.\n",
    "        return Customer.__counter\n",
    "\n",
    "    def set_counter(new): # static methods does not require obj to access.\n",
    "        if type(new) == int:\n",
    "            Customer.__counter = new\n",
    "        else:\n",
    "            print(\"Not Allowed\")\n",
    "        \n",
    "c1 = Customer()\n",
    "print(c1.sno)\n",
    "c2 = Customer()\n",
    "print(c2.sno)\n",
    "c3 = Customer()\n",
    "print(c3.sno)\n",
    "\n",
    "# print(c2.__counter)  # this make error\n",
    "# print(c2.__counter)\n",
    "\n",
    "Customer.get_counter()\n",
    "Customer.set_counter(5)\n",
    "Customer.get_counter()"
   ]
  },
  {
   "cell_type": "code",
   "execution_count": null,
   "id": "ecda8235-86c5-4a44-b5bb-5fe0950cdd19",
   "metadata": {},
   "outputs": [],
   "source": []
  }
 ],
 "metadata": {
  "kernelspec": {
   "display_name": "Python 3 (ipykernel)",
   "language": "python",
   "name": "python3"
  },
  "language_info": {
   "codemirror_mode": {
    "name": "ipython",
    "version": 3
   },
   "file_extension": ".py",
   "mimetype": "text/x-python",
   "name": "python",
   "nbconvert_exporter": "python",
   "pygments_lexer": "ipython3",
   "version": "3.11.5"
  }
 },
 "nbformat": 4,
 "nbformat_minor": 5
}
