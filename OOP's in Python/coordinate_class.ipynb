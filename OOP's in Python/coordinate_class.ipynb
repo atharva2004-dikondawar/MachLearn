{
 "cells": [
  {
   "cell_type": "code",
   "execution_count": 25,
   "id": "e555c534-c544-4f6a-adaa-f12be2ee33b5",
   "metadata": {},
   "outputs": [],
   "source": [
    "class coordinate:\n",
    "\n",
    "    def __init__(self,a,b,c,d):\n",
    "        self.x1 = a\n",
    "        self.y1 = b\n",
    "        self.x2 = c\n",
    "        self.y2 = d\n",
    "        \n",
    "    def distance_bet_points(self):\n",
    "        import math\n",
    "        temp_num = (((self.x2-self.x1)*(self.x2-self.x1)) + ((self.y2-self.y1)*(self.y2-self.y1)))\n",
    "        distance = math.sqrt(temp_num)\n",
    "        return distance\n",
    "    def slope(self):\n",
    "        temp_num = (self.y2-self.y1)/(self.x2-self.x1)\n",
    "        return temp_num\n",
    "    def mid_point(self):\n",
    "        temp_num_x = (self.x1+self.x2)/2\n",
    "        temp_num_y = (self.y1+self.y2)/2\n",
    "        return  (temp_num_x,temp_num_y)\n",
    "    def area_of_triangle(self,x3,y3):\n",
    "        area = abs((self.x1*(self.y2-y3) + self.x2*(y3-self.y1) + x3*(self.y1-self.y2))/2)\n",
    "        return area\n",
    "    def centroid_of_triangle(self,x3,y3):\n",
    "        centroid_x = (self.x1+self.x2+x3)/3\n",
    "        centroid_y = (self.y1+self.y2+y3)/3\n",
    "        return (centroid_x,centroid_y)"
   ]
  },
  {
   "cell_type": "code",
   "execution_count": 26,
   "id": "a0f92c7b-db01-4f1b-a724-b0edb02668f3",
   "metadata": {},
   "outputs": [],
   "source": [
    "ax = coordinate(0,0,1,1)"
   ]
  },
  {
   "cell_type": "code",
   "execution_count": 18,
   "id": "f8914f5b-5ee6-445c-a20d-960ad18132f6",
   "metadata": {},
   "outputs": [
    {
     "data": {
      "text/plain": [
       "5.0"
      ]
     },
     "execution_count": 18,
     "metadata": {},
     "output_type": "execute_result"
    }
   ],
   "source": [
    "ax.distance_bet_points()"
   ]
  },
  {
   "cell_type": "code",
   "execution_count": 19,
   "id": "ab586b49-5a47-4aa4-80a3-888a3e2796f1",
   "metadata": {},
   "outputs": [
    {
     "data": {
      "text/plain": [
       "1.3333333333333333"
      ]
     },
     "execution_count": 19,
     "metadata": {},
     "output_type": "execute_result"
    }
   ],
   "source": [
    "ax.slope()"
   ]
  },
  {
   "cell_type": "code",
   "execution_count": 20,
   "id": "4a1d7bd1-f472-4f62-a2a6-fd9337c4b339",
   "metadata": {},
   "outputs": [
    {
     "data": {
      "text/plain": [
       "(1.5, 2.0)"
      ]
     },
     "execution_count": 20,
     "metadata": {},
     "output_type": "execute_result"
    }
   ],
   "source": [
    "ax.mid_point()"
   ]
  },
  {
   "cell_type": "code",
   "execution_count": 23,
   "id": "0b4d191c-2325-41a5-8ed2-2577b421c256",
   "metadata": {},
   "outputs": [
    {
     "data": {
      "text/plain": [
       "5.0"
      ]
     },
     "execution_count": 23,
     "metadata": {},
     "output_type": "execute_result"
    }
   ],
   "source": [
    "ax.area_of_triangle(4,2)"
   ]
  },
  {
   "cell_type": "code",
   "execution_count": 28,
   "id": "dfe7f18a-673d-43ef-8d1f-41d20992a542",
   "metadata": {},
   "outputs": [
    {
     "data": {
      "text/plain": [
       "(1.3333333333333333, 1.3333333333333333)"
      ]
     },
     "execution_count": 28,
     "metadata": {},
     "output_type": "execute_result"
    }
   ],
   "source": [
    "ax.centroid_of_triangle(1,0)"
   ]
  },
  {
   "cell_type": "code",
   "execution_count": null,
   "id": "128c4a39-6ce6-4c54-a146-6a1d96f90594",
   "metadata": {},
   "outputs": [],
   "source": []
  }
 ],
 "metadata": {
  "kernelspec": {
   "display_name": "Python 3 (ipykernel)",
   "language": "python",
   "name": "python3"
  },
  "language_info": {
   "codemirror_mode": {
    "name": "ipython",
    "version": 3
   },
   "file_extension": ".py",
   "mimetype": "text/x-python",
   "name": "python",
   "nbconvert_exporter": "python",
   "pygments_lexer": "ipython3",
   "version": "3.11.5"
  }
 },
 "nbformat": 4,
 "nbformat_minor": 5
}
