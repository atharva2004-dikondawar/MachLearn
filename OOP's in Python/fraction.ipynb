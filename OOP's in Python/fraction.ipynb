{
 "cells": [
  {
   "cell_type": "code",
   "execution_count": 1,
   "id": "fe9f4e84-80ef-43b2-bdc6-43a8adca876c",
   "metadata": {},
   "outputs": [],
   "source": [
    "class fraction:\n",
    "\n",
    "    def __init__(self,n,d):\n",
    "        self.num = n\n",
    "        self.den = d\n",
    "\n",
    "    def __str__(self):     # it is the magic funtion that will be executed as we give print(object) command.\n",
    "        return \"{}/{}\".format(self.num,self.den)\n",
    "\n",
    "    def __add__(self,other):    # magic method which triggers when '+' operand is used.\n",
    "\n",
    "        temp_num = self.num * other.den + other.num * self.den\n",
    "        temp_den = self.den * other.den\n",
    "\n",
    "        return \"{}/{}\".format(temp_num,temp_den) \n",
    "\n",
    "    def __sub__(self,other):     # magic method which triggers when '-' operand is used.\n",
    "\n",
    "        temp_num = self.num * other.den - other.num * self.den\n",
    "        temp_den = self.den * other.den\n",
    "\n",
    "        return \"{}/{}\".format(temp_num,temp_den)\n",
    "\n",
    "    def __mul__(self,other):     # magic method which triggers when '*' operand is used.\n",
    "\n",
    "        temp_num = self.num * other.num \n",
    "        temp_den = self.den * other.den\n",
    "\n",
    "        return \"{}/{}\".format(temp_num,temp_den)\n",
    "\n",
    "    def __truediv__(self,other):     # magic method which triggers when '/' operand is used.\n",
    "\n",
    "        temp_num = self.num * other.den \n",
    "        temp_den = self.den * other.num\n",
    "\n",
    "        return \"{}/{}\".format(temp_num,temp_den)"
   ]
  },
  {
   "cell_type": "code",
   "execution_count": 2,
   "id": "003ae896-11a7-4141-bc1e-8ccebb8a6b3e",
   "metadata": {},
   "outputs": [],
   "source": [
    "x = fraction(1,2)"
   ]
  },
  {
   "cell_type": "code",
   "execution_count": 3,
   "id": "e75c4243-36cd-49d9-bbdb-62c54686f8b2",
   "metadata": {},
   "outputs": [
    {
     "name": "stdout",
     "output_type": "stream",
     "text": [
      "1/2\n"
     ]
    }
   ],
   "source": [
    "print(x)"
   ]
  },
  {
   "cell_type": "code",
   "execution_count": 4,
   "id": "ba9ae44a-8608-4f4f-9582-6005d63d4668",
   "metadata": {},
   "outputs": [],
   "source": [
    "y = fraction(1,2)"
   ]
  },
  {
   "cell_type": "code",
   "execution_count": 5,
   "id": "bf735478-5e96-4a21-8cdf-9210df62d289",
   "metadata": {},
   "outputs": [
    {
     "name": "stdout",
     "output_type": "stream",
     "text": [
      "1/2\n"
     ]
    }
   ],
   "source": [
    "print(y)"
   ]
  },
  {
   "cell_type": "code",
   "execution_count": 6,
   "id": "4e3c5685-dff1-40a0-a914-f816472caf8e",
   "metadata": {},
   "outputs": [
    {
     "name": "stdout",
     "output_type": "stream",
     "text": [
      "4/4\n"
     ]
    }
   ],
   "source": [
    "print(x+y)"
   ]
  },
  {
   "cell_type": "code",
   "execution_count": 7,
   "id": "77836763-29cd-40b3-85aa-c364bed290b5",
   "metadata": {},
   "outputs": [
    {
     "name": "stdout",
     "output_type": "stream",
     "text": [
      "0/4\n"
     ]
    }
   ],
   "source": [
    "print(x-y)"
   ]
  },
  {
   "cell_type": "code",
   "execution_count": 8,
   "id": "ba5ed041-f60d-4670-81bf-a28fdbf908b8",
   "metadata": {},
   "outputs": [
    {
     "name": "stdout",
     "output_type": "stream",
     "text": [
      "1/4\n"
     ]
    }
   ],
   "source": [
    "print(x*y)"
   ]
  },
  {
   "cell_type": "code",
   "execution_count": 9,
   "id": "f55696f4-89f4-41f7-a17f-4b2a6b0f4706",
   "metadata": {},
   "outputs": [
    {
     "name": "stdout",
     "output_type": "stream",
     "text": [
      "2/2\n"
     ]
    }
   ],
   "source": [
    "print(x/y)"
   ]
  },
  {
   "cell_type": "code",
   "execution_count": null,
   "id": "6e8b535d-3caf-411f-8f1e-ba460a1d5a8f",
   "metadata": {},
   "outputs": [],
   "source": []
  }
 ],
 "metadata": {
  "kernelspec": {
   "display_name": "Python 3 (ipykernel)",
   "language": "python",
   "name": "python3"
  },
  "language_info": {
   "codemirror_mode": {
    "name": "ipython",
    "version": 3
   },
   "file_extension": ".py",
   "mimetype": "text/x-python",
   "name": "python",
   "nbconvert_exporter": "python",
   "pygments_lexer": "ipython3",
   "version": "3.11.5"
  }
 },
 "nbformat": 4,
 "nbformat_minor": 5
}
