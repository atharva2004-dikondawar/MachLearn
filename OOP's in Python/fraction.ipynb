{
 "cells": [
  {
   "cell_type": "code",
   "execution_count": 17,
   "id": "fe9f4e84-80ef-43b2-bdc6-43a8adca876c",
   "metadata": {},
   "outputs": [],
   "source": [
    "class fraction:\n",
    "\n",
    "    def __init__(self,n,d):\n",
    "        self.num = n\n",
    "        self.den = d\n",
    "\n",
    "    def __str__(self):     # it is the magic funtion that will be executed as we give print(object) command\n",
    "        return \"{}/{}\".format(self.num,self.den)"
   ]
  },
  {
   "cell_type": "code",
   "execution_count": 18,
   "id": "003ae896-11a7-4141-bc1e-8ccebb8a6b3e",
   "metadata": {},
   "outputs": [],
   "source": [
    "fr = fraction(1,2)"
   ]
  },
  {
   "cell_type": "code",
   "execution_count": 19,
   "id": "de7788de-c2cc-4df9-aa15-60b2f8703565",
   "metadata": {},
   "outputs": [
    {
     "name": "stdout",
     "output_type": "stream",
     "text": [
      "1/2\n"
     ]
    }
   ],
   "source": [
    "print(fr)"
   ]
  },
  {
   "cell_type": "code",
   "execution_count": 6,
   "id": "fe31a711-b55b-4b58-b20f-a76f7b517e2b",
   "metadata": {},
   "outputs": [
    {
     "data": {
      "text/plain": [
       "__main__.fraction"
      ]
     },
     "execution_count": 6,
     "metadata": {},
     "output_type": "execute_result"
    }
   ],
   "source": [
    "type(fr)"
   ]
  },
  {
   "cell_type": "code",
   "execution_count": 10,
   "id": "42674069-6d32-484f-af8a-34900b295bab",
   "metadata": {},
   "outputs": [],
   "source": [
    "L = [1,2,3,fr]"
   ]
  },
  {
   "cell_type": "code",
   "execution_count": 11,
   "id": "3ab243d4-4cf1-4480-accb-b92e424c4ddc",
   "metadata": {},
   "outputs": [
    {
     "data": {
      "text/plain": [
       "[1, 2, 3, <__main__.fraction at 0x2035c193b50>]"
      ]
     },
     "execution_count": 11,
     "metadata": {},
     "output_type": "execute_result"
    }
   ],
   "source": [
    "L"
   ]
  },
  {
   "cell_type": "code",
   "execution_count": null,
   "id": "e75c4243-36cd-49d9-bbdb-62c54686f8b2",
   "metadata": {},
   "outputs": [],
   "source": []
  }
 ],
 "metadata": {
  "kernelspec": {
   "display_name": "Python 3 (ipykernel)",
   "language": "python",
   "name": "python3"
  },
  "language_info": {
   "codemirror_mode": {
    "name": "ipython",
    "version": 3
   },
   "file_extension": ".py",
   "mimetype": "text/x-python",
   "name": "python",
   "nbconvert_exporter": "python",
   "pygments_lexer": "ipython3",
   "version": "3.11.5"
  }
 },
 "nbformat": 4,
 "nbformat_minor": 5
}
