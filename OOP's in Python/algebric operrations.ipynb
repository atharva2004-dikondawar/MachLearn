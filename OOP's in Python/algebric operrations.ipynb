{
 "cells": [
  {
   "cell_type": "code",
   "execution_count": 37,
   "id": "4905902d-ea72-493f-9be3-9953f6a25622",
   "metadata": {},
   "outputs": [],
   "source": [
    "class algebra:\n",
    "\n",
    "    def __init__(self,a,b):\n",
    "\n",
    "        self.x1 = a\n",
    "        self.x2 = b\n",
    "        \n",
    "    def operation(self):\n",
    "        user_input = input(\"\"\"\n",
    "                        what do you want to perform?\n",
    "                        1. Enter 1 if want's to perform addition .\n",
    "                        2. Enter 2 if want's to perform substraction.\n",
    "                        3. Enter 3 if want's to perform multiplication.\n",
    "                        4. Enter 4 if want's to perform division. \n",
    "        \"\"\")\n",
    "        if user_input == \"1\":\n",
    "            print(\"Addition of \",self.num1,\" and \",self.num2,\" is : \")\n",
    "            return self.num1 + self.num2\n",
    "        elif user_input == \"2\":\n",
    "            print(\"substraction of \",self.num1,\" and \",self.num2,\" is : \")\n",
    "            return self.num1 - self.num2\n",
    "        elif user_input == \"3\":\n",
    "            print(\"Multiplication of \",self.num1,\" and \",self.num2,\" is : \")\n",
    "            return self.num1 * self.num2\n",
    "        elif user_input == \"4\":\n",
    "            print(\"Division of \",self.num1,\" and \",self.num2,\" is : \")\n",
    "            return self.num1/self.num2\n",
    "        else:\n",
    "            print(\"Enter any no from 1 to 4 or GOOD BYE.\")"
   ]
  },
  {
   "cell_type": "code",
   "execution_count": 38,
   "id": "878df51c-38a0-426e-a999-ed633e731e01",
   "metadata": {},
   "outputs": [],
   "source": [
    "x = algebra(3,4)"
   ]
  },
  {
   "cell_type": "code",
   "execution_count": 39,
   "id": "3e1bc028-9498-4354-9372-33fa8f8bd0e5",
   "metadata": {},
   "outputs": [
    {
     "name": "stdin",
     "output_type": "stream",
     "text": [
      "\n",
      "                        what do you want to perform?\n",
      "                        1. Enter 1 if want's to perform addition .\n",
      "                        2. Enter 2 if want's to perform substraction.\n",
      "                        3. Enter 3 if want's to perform multiplication.\n",
      "                        4. Enter 4 if want's to perform division. \n",
      "         4\n"
     ]
    },
    {
     "name": "stdout",
     "output_type": "stream",
     "text": [
      "Division of  3  and  4  is : \n"
     ]
    },
    {
     "data": {
      "text/plain": [
       "0.75"
      ]
     },
     "execution_count": 39,
     "metadata": {},
     "output_type": "execute_result"
    }
   ],
   "source": [
    "x.operation()"
   ]
  },
  {
   "cell_type": "code",
   "execution_count": null,
   "id": "35b66472-e6a6-4389-8e2c-a24ce118a08f",
   "metadata": {},
   "outputs": [],
   "source": []
  },
  {
   "cell_type": "code",
   "execution_count": null,
   "id": "3c6b6160-94f8-468a-9a38-379913099a1a",
   "metadata": {},
   "outputs": [],
   "source": []
  },
  {
   "cell_type": "code",
   "execution_count": null,
   "id": "25ba9db4-338c-4d31-873b-cf8554a15b02",
   "metadata": {},
   "outputs": [],
   "source": []
  }
 ],
 "metadata": {
  "kernelspec": {
   "display_name": "Python 3 (ipykernel)",
   "language": "python",
   "name": "python3"
  },
  "language_info": {
   "codemirror_mode": {
    "name": "ipython",
    "version": 3
   },
   "file_extension": ".py",
   "mimetype": "text/x-python",
   "name": "python",
   "nbconvert_exporter": "python",
   "pygments_lexer": "ipython3",
   "version": "3.11.5"
  }
 },
 "nbformat": 4,
 "nbformat_minor": 5
}
