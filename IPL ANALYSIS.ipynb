{
 "cells": [
  {
   "cell_type": "code",
   "execution_count": 14,
   "id": "102088e3",
   "metadata": {},
   "outputs": [],
   "source": [
    "import numpy as np\n",
    "import pandas as pd"
   ]
  },
  {
   "cell_type": "code",
   "execution_count": 15,
   "id": "3769dd9a",
   "metadata": {},
   "outputs": [
    {
     "data": {
      "text/plain": [
       "'1.5.3'"
      ]
     },
     "execution_count": 15,
     "metadata": {},
     "output_type": "execute_result"
    }
   ],
   "source": [
    "pd.__version__"
   ]
  },
  {
   "cell_type": "code",
   "execution_count": 16,
   "id": "02e13242",
   "metadata": {},
   "outputs": [
    {
     "data": {
      "text/plain": [
       "0        1\n",
       "1    atlas\n",
       "2        3\n",
       "3        4\n",
       "4      4.5\n",
       "dtype: object"
      ]
     },
     "execution_count": 16,
     "metadata": {},
     "output_type": "execute_result"
    }
   ],
   "source": [
    "data = pd.Series([1,'atlas',3,4,4.5])\n",
    "data"
   ]
  },
  {
   "cell_type": "code",
   "execution_count": 17,
   "id": "418f0539",
   "metadata": {},
   "outputs": [
    {
     "data": {
      "text/plain": [
       "RangeIndex(start=0, stop=5, step=1)"
      ]
     },
     "execution_count": 17,
     "metadata": {},
     "output_type": "execute_result"
    }
   ],
   "source": [
    "data.index # we can acces the values by data.index"
   ]
  },
  {
   "cell_type": "code",
   "execution_count": 18,
   "id": "49181f7f",
   "metadata": {},
   "outputs": [
    {
     "data": {
      "text/plain": [
       "'atlas'"
      ]
     },
     "execution_count": 18,
     "metadata": {},
     "output_type": "execute_result"
    }
   ],
   "source": [
    "data[1]"
   ]
  },
  {
   "cell_type": "code",
   "execution_count": 19,
   "id": "eea618e0",
   "metadata": {},
   "outputs": [
    {
     "data": {
      "text/plain": [
       "1    atlas\n",
       "2        3\n",
       "dtype: object"
      ]
     },
     "execution_count": 19,
     "metadata": {},
     "output_type": "execute_result"
    }
   ],
   "source": [
    "data[1:3]"
   ]
  },
  {
   "cell_type": "code",
   "execution_count": 20,
   "id": "c27b497e",
   "metadata": {},
   "outputs": [
    {
     "data": {
      "text/plain": [
       "a    1.2\n",
       "b    3.4\n",
       "c    5.6\n",
       "d    7.5\n",
       "dtype: float64"
      ]
     },
     "execution_count": 20,
     "metadata": {},
     "output_type": "execute_result"
    }
   ],
   "source": [
    "data=pd.Series([1.2,3.4,5.6,7.5],index=['a','b','c','d'])\n",
    "data"
   ]
  },
  {
   "cell_type": "code",
   "execution_count": 21,
   "id": "a34db95b",
   "metadata": {},
   "outputs": [
    {
     "data": {
      "text/plain": [
       "1.2"
      ]
     },
     "execution_count": 21,
     "metadata": {},
     "output_type": "execute_result"
    }
   ],
   "source": [
    "data['a']"
   ]
  },
  {
   "cell_type": "code",
   "execution_count": 22,
   "id": "12a72939",
   "metadata": {},
   "outputs": [
    {
     "data": {
      "text/plain": [
       "California    43245\n",
       "texas         54434\n",
       "ny             5432\n",
       "dtype: int64"
      ]
     },
     "execution_count": 22,
     "metadata": {},
     "output_type": "execute_result"
    }
   ],
   "source": [
    "population_dict = {'California': 43245,\n",
    "                  'texas':54434,\n",
    "                  'ny':5432}\n",
    "population = pd.Series(population_dict)\n",
    "population\n"
   ]
  },
  {
   "cell_type": "code",
   "execution_count": 23,
   "id": "a1a7c848",
   "metadata": {},
   "outputs": [
    {
     "data": {
      "text/plain": [
       "California    43245\n",
       "texas         54434\n",
       "ny             5432\n",
       "dtype: int64"
      ]
     },
     "execution_count": 23,
     "metadata": {},
     "output_type": "execute_result"
    }
   ],
   "source": [
    "population['California':'ny']"
   ]
  },
  {
   "cell_type": "code",
   "execution_count": 24,
   "id": "73df5eae",
   "metadata": {},
   "outputs": [
    {
     "data": {
      "text/plain": [
       "array({'California': 43245, 'texas': 54434, 'ny': 5432}, dtype=object)"
      ]
     },
     "execution_count": 24,
     "metadata": {},
     "output_type": "execute_result"
    }
   ],
   "source": [
    "sd=np.array(population_dict)\n",
    "sd"
   ]
  },
  {
   "cell_type": "code",
   "execution_count": 25,
   "id": "e8f4f19c",
   "metadata": {},
   "outputs": [
    {
     "data": {
      "text/plain": [
       "array([1, 2, 3, 4])"
      ]
     },
     "execution_count": 25,
     "metadata": {},
     "output_type": "execute_result"
    }
   ],
   "source": [
    "sd1=np.array([1,2,3,4])\n",
    "sd1"
   ]
  },
  {
   "cell_type": "code",
   "execution_count": 27,
   "id": "aa4990ac",
   "metadata": {},
   "outputs": [
    {
     "ename": "FileNotFoundError",
     "evalue": "[Errno 2] No such file or directory: 'matches - matches.csv'",
     "output_type": "error",
     "traceback": [
      "\u001b[1;31m---------------------------------------------------------------------------\u001b[0m",
      "\u001b[1;31mFileNotFoundError\u001b[0m                         Traceback (most recent call last)",
      "Cell \u001b[1;32mIn[27], line 1\u001b[0m\n\u001b[1;32m----> 1\u001b[0m data \u001b[38;5;241m=\u001b[39m \u001b[43mpd\u001b[49m\u001b[38;5;241;43m.\u001b[39;49m\u001b[43mread_csv\u001b[49m\u001b[43m(\u001b[49m\u001b[38;5;124;43m'\u001b[39;49m\u001b[38;5;124;43mmatches - matches.csv\u001b[39;49m\u001b[38;5;124;43m'\u001b[39;49m\u001b[43m)\u001b[49m\n\u001b[0;32m      2\u001b[0m original_data \u001b[38;5;241m=\u001b[39m pd\u001b[38;5;241m.\u001b[39mread_csv(\u001b[38;5;124m'\u001b[39m\u001b[38;5;124mmatches - matches.csv\u001b[39m\u001b[38;5;124m'\u001b[39m)\n\u001b[0;32m      3\u001b[0m new_data \u001b[38;5;241m=\u001b[39m pd\u001b[38;5;241m.\u001b[39mread_csv(\u001b[38;5;124m'\u001b[39m\u001b[38;5;124mmatches - matches.csv\u001b[39m\u001b[38;5;124m'\u001b[39m)\n",
      "File \u001b[1;32m~\\anaconda\\envs\\myenv\\lib\\site-packages\\pandas\\util\\_decorators.py:211\u001b[0m, in \u001b[0;36mdeprecate_kwarg.<locals>._deprecate_kwarg.<locals>.wrapper\u001b[1;34m(*args, **kwargs)\u001b[0m\n\u001b[0;32m    209\u001b[0m     \u001b[38;5;28;01melse\u001b[39;00m:\n\u001b[0;32m    210\u001b[0m         kwargs[new_arg_name] \u001b[38;5;241m=\u001b[39m new_arg_value\n\u001b[1;32m--> 211\u001b[0m \u001b[38;5;28;01mreturn\u001b[39;00m func(\u001b[38;5;241m*\u001b[39margs, \u001b[38;5;241m*\u001b[39m\u001b[38;5;241m*\u001b[39mkwargs)\n",
      "File \u001b[1;32m~\\anaconda\\envs\\myenv\\lib\\site-packages\\pandas\\util\\_decorators.py:331\u001b[0m, in \u001b[0;36mdeprecate_nonkeyword_arguments.<locals>.decorate.<locals>.wrapper\u001b[1;34m(*args, **kwargs)\u001b[0m\n\u001b[0;32m    325\u001b[0m \u001b[38;5;28;01mif\u001b[39;00m \u001b[38;5;28mlen\u001b[39m(args) \u001b[38;5;241m>\u001b[39m num_allow_args:\n\u001b[0;32m    326\u001b[0m     warnings\u001b[38;5;241m.\u001b[39mwarn(\n\u001b[0;32m    327\u001b[0m         msg\u001b[38;5;241m.\u001b[39mformat(arguments\u001b[38;5;241m=\u001b[39m_format_argument_list(allow_args)),\n\u001b[0;32m    328\u001b[0m         \u001b[38;5;167;01mFutureWarning\u001b[39;00m,\n\u001b[0;32m    329\u001b[0m         stacklevel\u001b[38;5;241m=\u001b[39mfind_stack_level(),\n\u001b[0;32m    330\u001b[0m     )\n\u001b[1;32m--> 331\u001b[0m \u001b[38;5;28;01mreturn\u001b[39;00m func(\u001b[38;5;241m*\u001b[39margs, \u001b[38;5;241m*\u001b[39m\u001b[38;5;241m*\u001b[39mkwargs)\n",
      "File \u001b[1;32m~\\anaconda\\envs\\myenv\\lib\\site-packages\\pandas\\io\\parsers\\readers.py:950\u001b[0m, in \u001b[0;36mread_csv\u001b[1;34m(filepath_or_buffer, sep, delimiter, header, names, index_col, usecols, squeeze, prefix, mangle_dupe_cols, dtype, engine, converters, true_values, false_values, skipinitialspace, skiprows, skipfooter, nrows, na_values, keep_default_na, na_filter, verbose, skip_blank_lines, parse_dates, infer_datetime_format, keep_date_col, date_parser, dayfirst, cache_dates, iterator, chunksize, compression, thousands, decimal, lineterminator, quotechar, quoting, doublequote, escapechar, comment, encoding, encoding_errors, dialect, error_bad_lines, warn_bad_lines, on_bad_lines, delim_whitespace, low_memory, memory_map, float_precision, storage_options)\u001b[0m\n\u001b[0;32m    935\u001b[0m kwds_defaults \u001b[38;5;241m=\u001b[39m _refine_defaults_read(\n\u001b[0;32m    936\u001b[0m     dialect,\n\u001b[0;32m    937\u001b[0m     delimiter,\n\u001b[1;32m   (...)\u001b[0m\n\u001b[0;32m    946\u001b[0m     defaults\u001b[38;5;241m=\u001b[39m{\u001b[38;5;124m\"\u001b[39m\u001b[38;5;124mdelimiter\u001b[39m\u001b[38;5;124m\"\u001b[39m: \u001b[38;5;124m\"\u001b[39m\u001b[38;5;124m,\u001b[39m\u001b[38;5;124m\"\u001b[39m},\n\u001b[0;32m    947\u001b[0m )\n\u001b[0;32m    948\u001b[0m kwds\u001b[38;5;241m.\u001b[39mupdate(kwds_defaults)\n\u001b[1;32m--> 950\u001b[0m \u001b[38;5;28;01mreturn\u001b[39;00m \u001b[43m_read\u001b[49m\u001b[43m(\u001b[49m\u001b[43mfilepath_or_buffer\u001b[49m\u001b[43m,\u001b[49m\u001b[43m \u001b[49m\u001b[43mkwds\u001b[49m\u001b[43m)\u001b[49m\n",
      "File \u001b[1;32m~\\anaconda\\envs\\myenv\\lib\\site-packages\\pandas\\io\\parsers\\readers.py:605\u001b[0m, in \u001b[0;36m_read\u001b[1;34m(filepath_or_buffer, kwds)\u001b[0m\n\u001b[0;32m    602\u001b[0m _validate_names(kwds\u001b[38;5;241m.\u001b[39mget(\u001b[38;5;124m\"\u001b[39m\u001b[38;5;124mnames\u001b[39m\u001b[38;5;124m\"\u001b[39m, \u001b[38;5;28;01mNone\u001b[39;00m))\n\u001b[0;32m    604\u001b[0m \u001b[38;5;66;03m# Create the parser.\u001b[39;00m\n\u001b[1;32m--> 605\u001b[0m parser \u001b[38;5;241m=\u001b[39m TextFileReader(filepath_or_buffer, \u001b[38;5;241m*\u001b[39m\u001b[38;5;241m*\u001b[39mkwds)\n\u001b[0;32m    607\u001b[0m \u001b[38;5;28;01mif\u001b[39;00m chunksize \u001b[38;5;129;01mor\u001b[39;00m iterator:\n\u001b[0;32m    608\u001b[0m     \u001b[38;5;28;01mreturn\u001b[39;00m parser\n",
      "File \u001b[1;32m~\\anaconda\\envs\\myenv\\lib\\site-packages\\pandas\\io\\parsers\\readers.py:1442\u001b[0m, in \u001b[0;36mTextFileReader.__init__\u001b[1;34m(self, f, engine, **kwds)\u001b[0m\n\u001b[0;32m   1439\u001b[0m     \u001b[38;5;28mself\u001b[39m\u001b[38;5;241m.\u001b[39moptions[\u001b[38;5;124m\"\u001b[39m\u001b[38;5;124mhas_index_names\u001b[39m\u001b[38;5;124m\"\u001b[39m] \u001b[38;5;241m=\u001b[39m kwds[\u001b[38;5;124m\"\u001b[39m\u001b[38;5;124mhas_index_names\u001b[39m\u001b[38;5;124m\"\u001b[39m]\n\u001b[0;32m   1441\u001b[0m \u001b[38;5;28mself\u001b[39m\u001b[38;5;241m.\u001b[39mhandles: IOHandles \u001b[38;5;241m|\u001b[39m \u001b[38;5;28;01mNone\u001b[39;00m \u001b[38;5;241m=\u001b[39m \u001b[38;5;28;01mNone\u001b[39;00m\n\u001b[1;32m-> 1442\u001b[0m \u001b[38;5;28mself\u001b[39m\u001b[38;5;241m.\u001b[39m_engine \u001b[38;5;241m=\u001b[39m \u001b[38;5;28;43mself\u001b[39;49m\u001b[38;5;241;43m.\u001b[39;49m\u001b[43m_make_engine\u001b[49m\u001b[43m(\u001b[49m\u001b[43mf\u001b[49m\u001b[43m,\u001b[49m\u001b[43m \u001b[49m\u001b[38;5;28;43mself\u001b[39;49m\u001b[38;5;241;43m.\u001b[39;49m\u001b[43mengine\u001b[49m\u001b[43m)\u001b[49m\n",
      "File \u001b[1;32m~\\anaconda\\envs\\myenv\\lib\\site-packages\\pandas\\io\\parsers\\readers.py:1735\u001b[0m, in \u001b[0;36mTextFileReader._make_engine\u001b[1;34m(self, f, engine)\u001b[0m\n\u001b[0;32m   1733\u001b[0m     \u001b[38;5;28;01mif\u001b[39;00m \u001b[38;5;124m\"\u001b[39m\u001b[38;5;124mb\u001b[39m\u001b[38;5;124m\"\u001b[39m \u001b[38;5;129;01mnot\u001b[39;00m \u001b[38;5;129;01min\u001b[39;00m mode:\n\u001b[0;32m   1734\u001b[0m         mode \u001b[38;5;241m+\u001b[39m\u001b[38;5;241m=\u001b[39m \u001b[38;5;124m\"\u001b[39m\u001b[38;5;124mb\u001b[39m\u001b[38;5;124m\"\u001b[39m\n\u001b[1;32m-> 1735\u001b[0m \u001b[38;5;28mself\u001b[39m\u001b[38;5;241m.\u001b[39mhandles \u001b[38;5;241m=\u001b[39m \u001b[43mget_handle\u001b[49m\u001b[43m(\u001b[49m\n\u001b[0;32m   1736\u001b[0m \u001b[43m    \u001b[49m\u001b[43mf\u001b[49m\u001b[43m,\u001b[49m\n\u001b[0;32m   1737\u001b[0m \u001b[43m    \u001b[49m\u001b[43mmode\u001b[49m\u001b[43m,\u001b[49m\n\u001b[0;32m   1738\u001b[0m \u001b[43m    \u001b[49m\u001b[43mencoding\u001b[49m\u001b[38;5;241;43m=\u001b[39;49m\u001b[38;5;28;43mself\u001b[39;49m\u001b[38;5;241;43m.\u001b[39;49m\u001b[43moptions\u001b[49m\u001b[38;5;241;43m.\u001b[39;49m\u001b[43mget\u001b[49m\u001b[43m(\u001b[49m\u001b[38;5;124;43m\"\u001b[39;49m\u001b[38;5;124;43mencoding\u001b[39;49m\u001b[38;5;124;43m\"\u001b[39;49m\u001b[43m,\u001b[49m\u001b[43m \u001b[49m\u001b[38;5;28;43;01mNone\u001b[39;49;00m\u001b[43m)\u001b[49m\u001b[43m,\u001b[49m\n\u001b[0;32m   1739\u001b[0m \u001b[43m    \u001b[49m\u001b[43mcompression\u001b[49m\u001b[38;5;241;43m=\u001b[39;49m\u001b[38;5;28;43mself\u001b[39;49m\u001b[38;5;241;43m.\u001b[39;49m\u001b[43moptions\u001b[49m\u001b[38;5;241;43m.\u001b[39;49m\u001b[43mget\u001b[49m\u001b[43m(\u001b[49m\u001b[38;5;124;43m\"\u001b[39;49m\u001b[38;5;124;43mcompression\u001b[39;49m\u001b[38;5;124;43m\"\u001b[39;49m\u001b[43m,\u001b[49m\u001b[43m \u001b[49m\u001b[38;5;28;43;01mNone\u001b[39;49;00m\u001b[43m)\u001b[49m\u001b[43m,\u001b[49m\n\u001b[0;32m   1740\u001b[0m \u001b[43m    \u001b[49m\u001b[43mmemory_map\u001b[49m\u001b[38;5;241;43m=\u001b[39;49m\u001b[38;5;28;43mself\u001b[39;49m\u001b[38;5;241;43m.\u001b[39;49m\u001b[43moptions\u001b[49m\u001b[38;5;241;43m.\u001b[39;49m\u001b[43mget\u001b[49m\u001b[43m(\u001b[49m\u001b[38;5;124;43m\"\u001b[39;49m\u001b[38;5;124;43mmemory_map\u001b[39;49m\u001b[38;5;124;43m\"\u001b[39;49m\u001b[43m,\u001b[49m\u001b[43m \u001b[49m\u001b[38;5;28;43;01mFalse\u001b[39;49;00m\u001b[43m)\u001b[49m\u001b[43m,\u001b[49m\n\u001b[0;32m   1741\u001b[0m \u001b[43m    \u001b[49m\u001b[43mis_text\u001b[49m\u001b[38;5;241;43m=\u001b[39;49m\u001b[43mis_text\u001b[49m\u001b[43m,\u001b[49m\n\u001b[0;32m   1742\u001b[0m \u001b[43m    \u001b[49m\u001b[43merrors\u001b[49m\u001b[38;5;241;43m=\u001b[39;49m\u001b[38;5;28;43mself\u001b[39;49m\u001b[38;5;241;43m.\u001b[39;49m\u001b[43moptions\u001b[49m\u001b[38;5;241;43m.\u001b[39;49m\u001b[43mget\u001b[49m\u001b[43m(\u001b[49m\u001b[38;5;124;43m\"\u001b[39;49m\u001b[38;5;124;43mencoding_errors\u001b[39;49m\u001b[38;5;124;43m\"\u001b[39;49m\u001b[43m,\u001b[49m\u001b[43m \u001b[49m\u001b[38;5;124;43m\"\u001b[39;49m\u001b[38;5;124;43mstrict\u001b[39;49m\u001b[38;5;124;43m\"\u001b[39;49m\u001b[43m)\u001b[49m\u001b[43m,\u001b[49m\n\u001b[0;32m   1743\u001b[0m \u001b[43m    \u001b[49m\u001b[43mstorage_options\u001b[49m\u001b[38;5;241;43m=\u001b[39;49m\u001b[38;5;28;43mself\u001b[39;49m\u001b[38;5;241;43m.\u001b[39;49m\u001b[43moptions\u001b[49m\u001b[38;5;241;43m.\u001b[39;49m\u001b[43mget\u001b[49m\u001b[43m(\u001b[49m\u001b[38;5;124;43m\"\u001b[39;49m\u001b[38;5;124;43mstorage_options\u001b[39;49m\u001b[38;5;124;43m\"\u001b[39;49m\u001b[43m,\u001b[49m\u001b[43m \u001b[49m\u001b[38;5;28;43;01mNone\u001b[39;49;00m\u001b[43m)\u001b[49m\u001b[43m,\u001b[49m\n\u001b[0;32m   1744\u001b[0m \u001b[43m\u001b[49m\u001b[43m)\u001b[49m\n\u001b[0;32m   1745\u001b[0m \u001b[38;5;28;01massert\u001b[39;00m \u001b[38;5;28mself\u001b[39m\u001b[38;5;241m.\u001b[39mhandles \u001b[38;5;129;01mis\u001b[39;00m \u001b[38;5;129;01mnot\u001b[39;00m \u001b[38;5;28;01mNone\u001b[39;00m\n\u001b[0;32m   1746\u001b[0m f \u001b[38;5;241m=\u001b[39m \u001b[38;5;28mself\u001b[39m\u001b[38;5;241m.\u001b[39mhandles\u001b[38;5;241m.\u001b[39mhandle\n",
      "File \u001b[1;32m~\\anaconda\\envs\\myenv\\lib\\site-packages\\pandas\\io\\common.py:856\u001b[0m, in \u001b[0;36mget_handle\u001b[1;34m(path_or_buf, mode, encoding, compression, memory_map, is_text, errors, storage_options)\u001b[0m\n\u001b[0;32m    851\u001b[0m \u001b[38;5;28;01melif\u001b[39;00m \u001b[38;5;28misinstance\u001b[39m(handle, \u001b[38;5;28mstr\u001b[39m):\n\u001b[0;32m    852\u001b[0m     \u001b[38;5;66;03m# Check whether the filename is to be opened in binary mode.\u001b[39;00m\n\u001b[0;32m    853\u001b[0m     \u001b[38;5;66;03m# Binary mode does not support 'encoding' and 'newline'.\u001b[39;00m\n\u001b[0;32m    854\u001b[0m     \u001b[38;5;28;01mif\u001b[39;00m ioargs\u001b[38;5;241m.\u001b[39mencoding \u001b[38;5;129;01mand\u001b[39;00m \u001b[38;5;124m\"\u001b[39m\u001b[38;5;124mb\u001b[39m\u001b[38;5;124m\"\u001b[39m \u001b[38;5;129;01mnot\u001b[39;00m \u001b[38;5;129;01min\u001b[39;00m ioargs\u001b[38;5;241m.\u001b[39mmode:\n\u001b[0;32m    855\u001b[0m         \u001b[38;5;66;03m# Encoding\u001b[39;00m\n\u001b[1;32m--> 856\u001b[0m         handle \u001b[38;5;241m=\u001b[39m \u001b[38;5;28;43mopen\u001b[39;49m\u001b[43m(\u001b[49m\n\u001b[0;32m    857\u001b[0m \u001b[43m            \u001b[49m\u001b[43mhandle\u001b[49m\u001b[43m,\u001b[49m\n\u001b[0;32m    858\u001b[0m \u001b[43m            \u001b[49m\u001b[43mioargs\u001b[49m\u001b[38;5;241;43m.\u001b[39;49m\u001b[43mmode\u001b[49m\u001b[43m,\u001b[49m\n\u001b[0;32m    859\u001b[0m \u001b[43m            \u001b[49m\u001b[43mencoding\u001b[49m\u001b[38;5;241;43m=\u001b[39;49m\u001b[43mioargs\u001b[49m\u001b[38;5;241;43m.\u001b[39;49m\u001b[43mencoding\u001b[49m\u001b[43m,\u001b[49m\n\u001b[0;32m    860\u001b[0m \u001b[43m            \u001b[49m\u001b[43merrors\u001b[49m\u001b[38;5;241;43m=\u001b[39;49m\u001b[43merrors\u001b[49m\u001b[43m,\u001b[49m\n\u001b[0;32m    861\u001b[0m \u001b[43m            \u001b[49m\u001b[43mnewline\u001b[49m\u001b[38;5;241;43m=\u001b[39;49m\u001b[38;5;124;43m\"\u001b[39;49m\u001b[38;5;124;43m\"\u001b[39;49m\u001b[43m,\u001b[49m\n\u001b[0;32m    862\u001b[0m \u001b[43m        \u001b[49m\u001b[43m)\u001b[49m\n\u001b[0;32m    863\u001b[0m     \u001b[38;5;28;01melse\u001b[39;00m:\n\u001b[0;32m    864\u001b[0m         \u001b[38;5;66;03m# Binary mode\u001b[39;00m\n\u001b[0;32m    865\u001b[0m         handle \u001b[38;5;241m=\u001b[39m \u001b[38;5;28mopen\u001b[39m(handle, ioargs\u001b[38;5;241m.\u001b[39mmode)\n",
      "\u001b[1;31mFileNotFoundError\u001b[0m: [Errno 2] No such file or directory: 'matches - matches.csv'"
     ]
    }
   ],
   "source": [
    "data = pd.read_csv('matches - matches.csv')\n",
    "original_data = pd.read_csv('matches - matches.csv')\n",
    "new_data = pd.read_csv('matches - matches.csv')"
   ]
  },
  {
   "cell_type": "code",
   "execution_count": null,
   "id": "36beb9bf",
   "metadata": {},
   "outputs": [],
   "source": [
    "data"
   ]
  },
  {
   "cell_type": "code",
   "execution_count": null,
   "id": "d2f668bf",
   "metadata": {
    "scrolled": true
   },
   "outputs": [],
   "source": [
    "data.head(3)"
   ]
  },
  {
   "cell_type": "code",
   "execution_count": null,
   "id": "c7103e70",
   "metadata": {},
   "outputs": [],
   "source": [
    "data.tail(4)"
   ]
  },
  {
   "cell_type": "code",
   "execution_count": null,
   "id": "8fdadf83",
   "metadata": {},
   "outputs": [],
   "source": [
    "data.shape"
   ]
  },
  {
   "cell_type": "code",
   "execution_count": null,
   "id": "87e64061",
   "metadata": {},
   "outputs": [],
   "source": [
    "data.info()"
   ]
  },
  {
   "cell_type": "code",
   "execution_count": null,
   "id": "d6bee71c",
   "metadata": {},
   "outputs": [],
   "source": [
    "data.describe()"
   ]
  },
  {
   "cell_type": "code",
   "execution_count": null,
   "id": "9fdbd691",
   "metadata": {},
   "outputs": [],
   "source": [
    "data['winner'].head(100)"
   ]
  },
  {
   "cell_type": "code",
   "execution_count": null,
   "id": "656e60b1",
   "metadata": {},
   "outputs": [],
   "source": [
    "data[['team1','team2','winner']].head(10)"
   ]
  },
  {
   "cell_type": "code",
   "execution_count": null,
   "id": "8cc84a60",
   "metadata": {},
   "outputs": [],
   "source": [
    "data.iloc[1:11:3]"
   ]
  },
  {
   "cell_type": "code",
   "execution_count": null,
   "id": "176c73dd",
   "metadata": {},
   "outputs": [],
   "source": [
    "data.iloc[[1,5,7,10,50]]"
   ]
  },
  {
   "cell_type": "code",
   "execution_count": null,
   "id": "74b5e292",
   "metadata": {},
   "outputs": [],
   "source": [
    "data.iloc[0:636,[4,5,10]]#.head(10)"
   ]
  },
  {
   "cell_type": "code",
   "execution_count": null,
   "id": "d528165c",
   "metadata": {},
   "outputs": [],
   "source": [
    "mask = data['city'] == 'Hyderabad'\n",
    "data[mask]"
   ]
  },
  {
   "cell_type": "code",
   "execution_count": null,
   "id": "8b4d9db9",
   "metadata": {},
   "outputs": [],
   "source": [
    "def get_city_match_count(city):\n",
    "    mask = data['city'] == city\n",
    "    return data[mask].shape[0]"
   ]
  },
  {
   "cell_type": "code",
   "execution_count": null,
   "id": "12b80ab2",
   "metadata": {},
   "outputs": [],
   "source": [
    "get_city_match_count('Mumbai')"
   ]
  },
  {
   "cell_type": "code",
   "execution_count": null,
   "id": "c9798249",
   "metadata": {},
   "outputs": [],
   "source": [
    "mask1=data['city']=='Hyderabad'\n",
    "mask2=data['date']>'2010-01-01'\n",
    "\n",
    "data[mask1 & mask2].shape[0]"
   ]
  },
  {
   "cell_type": "code",
   "execution_count": null,
   "id": "e4489934",
   "metadata": {},
   "outputs": [],
   "source": [
    "data['winner'].value_counts()"
   ]
  },
  {
   "cell_type": "code",
   "execution_count": null,
   "id": "859ceedb",
   "metadata": {},
   "outputs": [],
   "source": [
    "# the pandas plot()\n",
    "import matplotlib.pyplot as plt"
   ]
  },
  {
   "cell_type": "code",
   "execution_count": null,
   "id": "fa0366d5",
   "metadata": {},
   "outputs": [],
   "source": [
    "data['winner'].value_counts().head(5).plot(kind='bar')"
   ]
  },
  {
   "cell_type": "code",
   "execution_count": null,
   "id": "b14789c6",
   "metadata": {},
   "outputs": [],
   "source": [
    "data['winner'].value_counts().head(5).plot(kind='barh')"
   ]
  },
  {
   "cell_type": "code",
   "execution_count": null,
   "id": "6e84b782",
   "metadata": {},
   "outputs": [],
   "source": [
    "data['toss_decision'].value_counts()\n"
   ]
  },
  {
   "cell_type": "code",
   "execution_count": null,
   "id": "9540415c",
   "metadata": {},
   "outputs": [],
   "source": [
    "data['toss_decision'].value_counts().plot(kind='pie')"
   ]
  },
  {
   "cell_type": "code",
   "execution_count": null,
   "id": "76e7574e",
   "metadata": {},
   "outputs": [],
   "source": [
    "data['win_by_runs'].plot(kind='hist')"
   ]
  },
  {
   "cell_type": "code",
   "execution_count": null,
   "id": "aa5164b5",
   "metadata": {},
   "outputs": [],
   "source": [
    "myseries=data['winner'].value_counts()\n",
    "myseries"
   ]
  },
  {
   "cell_type": "code",
   "execution_count": null,
   "id": "fb16e2a2",
   "metadata": {},
   "outputs": [],
   "source": [
    "myseries.index"
   ]
  },
  {
   "cell_type": "code",
   "execution_count": null,
   "id": "86515dc4",
   "metadata": {},
   "outputs": [],
   "source": [
    "myseries.values"
   ]
  },
  {
   "cell_type": "code",
   "execution_count": null,
   "id": "513aa4fc",
   "metadata": {},
   "outputs": [],
   "source": [
    "myseries.head()"
   ]
  },
  {
   "cell_type": "code",
   "execution_count": null,
   "id": "c215e84f",
   "metadata": {},
   "outputs": [],
   "source": [
    "myseries.tail()"
   ]
  },
  {
   "cell_type": "code",
   "execution_count": null,
   "id": "097cded0",
   "metadata": {},
   "outputs": [],
   "source": [
    "myseries['Pune Warriors']"
   ]
  },
  {
   "cell_type": "code",
   "execution_count": null,
   "id": "09ddaa46",
   "metadata": {},
   "outputs": [],
   "source": [
    "series3=data['team1'].value_counts()\n",
    "series3"
   ]
  },
  {
   "cell_type": "code",
   "execution_count": null,
   "id": "d64e985a",
   "metadata": {},
   "outputs": [],
   "source": [
    "series3['Mumbai Indians']\n"
   ]
  },
  {
   "cell_type": "code",
   "execution_count": null,
   "id": "af8aec86",
   "metadata": {},
   "outputs": [],
   "source": [
    "series4=data['team2'].value_counts()\n",
    "series4"
   ]
  },
  {
   "cell_type": "code",
   "execution_count": null,
   "id": "42d7eafc",
   "metadata": {},
   "outputs": [],
   "source": [
    "series4['Mumbai Indians']+series3['Mumbai Indians']\n"
   ]
  },
  {
   "cell_type": "code",
   "execution_count": null,
   "id": "e3466fb6",
   "metadata": {},
   "outputs": [],
   "source": [
    "data['team1'].value_counts()+data['team2'].value_counts()"
   ]
  },
  {
   "cell_type": "code",
   "execution_count": null,
   "id": "1226b6fc",
   "metadata": {},
   "outputs": [],
   "source": [
    "def Get_total_matches(team):\n",
    "    total_matches = series3[team] + series4[team]\n",
    "    return total_matches\n",
    "    "
   ]
  },
  {
   "cell_type": "code",
   "execution_count": null,
   "id": "0dabb64c",
   "metadata": {},
   "outputs": [],
   "source": [
    "Get_total_matches('Mumbai Indians')"
   ]
  },
  {
   "cell_type": "code",
   "execution_count": null,
   "id": "80fa7490",
   "metadata": {},
   "outputs": [],
   "source": [
    "(data['team1'].value_counts()+data['team2'].value_counts()).sort_values()"
   ]
  },
  {
   "cell_type": "code",
   "execution_count": null,
   "id": "11f55db4",
   "metadata": {},
   "outputs": [],
   "source": [
    "(data['team1'].value_counts()+data['team2'].value_counts()).sort_values(ascending=False)"
   ]
  },
  {
   "cell_type": "code",
   "execution_count": null,
   "id": "1b861452",
   "metadata": {},
   "outputs": [],
   "source": [
    "data.sort_values('city') # it will sort in ascending order as it's default "
   ]
  },
  {
   "cell_type": "code",
   "execution_count": null,
   "id": "7be29cb4",
   "metadata": {},
   "outputs": [],
   "source": [
    "data.sort_values('city',ascending=False) #THis will temporarily sort the data"
   ]
  },
  {
   "cell_type": "code",
   "execution_count": null,
   "id": "d497af5c",
   "metadata": {},
   "outputs": [],
   "source": [
    "data.sort_values('city',ascending=False,inplace=True) #THIS WILL PERMANENYTLY(inplace=True) AND IN DECENDING(ascending=False) ORDER SORT THE DATA"
   ]
  },
  {
   "cell_type": "code",
   "execution_count": null,
   "id": "2ccfaf05",
   "metadata": {},
   "outputs": [],
   "source": [
    "data  "
   ]
  },
  {
   "cell_type": "code",
   "execution_count": null,
   "id": "a6cd90f8",
   "metadata": {},
   "outputs": [],
   "source": [
    "data.sort_values(['city','date']) #THIS WILL BE SORTED IN ASCENDING ORDER "
   ]
  },
  {
   "cell_type": "code",
   "execution_count": null,
   "id": "83f429ac",
   "metadata": {},
   "outputs": [],
   "source": [
    "data.sort_values(['city','date'],ascending=False,inplace=True) # THIS WILL SORT PERMANENTLY IN DECENDING ORDER.  "
   ]
  },
  {
   "cell_type": "code",
   "execution_count": null,
   "id": "75563a14",
   "metadata": {},
   "outputs": [],
   "source": [
    "data"
   ]
  },
  {
   "cell_type": "code",
   "execution_count": null,
   "id": "7c415a1f",
   "metadata": {},
   "outputs": [],
   "source": [
    "data.sort_values(['city','date'],inplace=True)\n",
    "data"
   ]
  },
  {
   "cell_type": "code",
   "execution_count": null,
   "id": "81a42b41",
   "metadata": {},
   "outputs": [],
   "source": [
    "original_data.drop_duplicates(subset=['city'])"
   ]
  },
  {
   "cell_type": "code",
   "execution_count": null,
   "id": "6440d9ca",
   "metadata": {},
   "outputs": [],
   "source": [
    "original_data.drop_duplicates(subset=['city']).shape  #we can say that in 31 unique cities the matches have been played   "
   ]
  },
  {
   "cell_type": "code",
   "execution_count": null,
   "id": "ce029bd5",
   "metadata": {},
   "outputs": [],
   "source": [
    "original_data.drop_duplicates(subset=['city'], keep='last')\n",
    "#this will drop every duplicate city and will kepp the last duplicate in dataframe temporarily and to make it permanent use inplace=True asinplace=False is default  "
   ]
  },
  {
   "cell_type": "code",
   "execution_count": null,
   "id": "b54a0993",
   "metadata": {},
   "outputs": [],
   "source": [
    "original_data.drop_duplicates(subset=['city','season']).shape  #THIS WILL WORK AS A AND OPERATION AND IT WILL DROP EVERY DUPLICATE CITY AND SEASON\n",
    "# LIKE IT WILL KEEP 2017 HYDERABAD BUT WILL DROP 2016 HYDERABAD"
   ]
  },
  {
   "cell_type": "code",
   "execution_count": null,
   "id": "d37b98ae",
   "metadata": {},
   "outputs": [],
   "source": [
    "original_data.drop_duplicates(subset=['season'], keep='last')[['season','winner']].sort_values('season')"
   ]
  },
  {
   "cell_type": "code",
   "execution_count": null,
   "id": "801e9041",
   "metadata": {},
   "outputs": [],
   "source": [
    "company=pd.read_csv(\"Fortune_1000.csv\")\n",
    "org_company=pd.read_csv(\"Fortune_1000.csv\")\n",
    "company.head(5)"
   ]
  },
  {
   "cell_type": "code",
   "execution_count": null,
   "id": "a22a135f",
   "metadata": {},
   "outputs": [],
   "source": [
    "sectors = company.groupby('sector')"
   ]
  },
  {
   "cell_type": "code",
   "execution_count": null,
   "id": "bb583818",
   "metadata": {},
   "outputs": [],
   "source": [
    "sectors"
   ]
  },
  {
   "cell_type": "code",
   "execution_count": null,
   "id": "e44cfe4a",
   "metadata": {},
   "outputs": [],
   "source": [
    "len(company) # this means that there are 1000 companies listed"
   ]
  },
  {
   "cell_type": "code",
   "execution_count": null,
   "id": "7b6b4640",
   "metadata": {},
   "outputs": [],
   "source": [
    "len(sectors) # this means there are total 21 sectors"
   ]
  },
  {
   "cell_type": "code",
   "execution_count": null,
   "id": "9a7c8639",
   "metadata": {},
   "outputs": [],
   "source": [
    "sectors.size().sort_values(ascending=False)"
   ]
  },
  {
   "cell_type": "code",
   "execution_count": null,
   "id": "54b95f64",
   "metadata": {},
   "outputs": [],
   "source": [
    "sectors.first() # will return the dataframe which contains only first company of the specific sector"
   ]
  },
  {
   "cell_type": "code",
   "execution_count": null,
   "id": "44fb3e2f",
   "metadata": {
    "scrolled": true
   },
   "outputs": [],
   "source": [
    "sectors.last() # will return last company of ech sector"
   ]
  },
  {
   "cell_type": "code",
   "execution_count": null,
   "id": "5e8466ab",
   "metadata": {},
   "outputs": [],
   "source": [
    "sectors.groups\n",
    "# company.iloc[1, :] this we retrive the 1st row and its complete data\n",
    "\n",
    "\n"
   ]
  },
  {
   "cell_type": "code",
   "execution_count": null,
   "id": "193488cd",
   "metadata": {},
   "outputs": [],
   "source": [
    "sectors.get_group('Energy')"
   ]
  },
  {
   "cell_type": "code",
   "execution_count": null,
   "id": "ddb46433",
   "metadata": {},
   "outputs": [],
   "source": [
    "sectors.get_group('Apparel').shape\n"
   ]
  },
  {
   "cell_type": "code",
   "execution_count": null,
   "id": "2585cf2f",
   "metadata": {},
   "outputs": [],
   "source": [
    "sectors.sum()"
   ]
  },
  {
   "cell_type": "code",
   "execution_count": null,
   "id": "1903877c",
   "metadata": {},
   "outputs": [],
   "source": [
    "sectors.mean()"
   ]
  },
  {
   "cell_type": "code",
   "execution_count": null,
   "id": "f4ff0cdd",
   "metadata": {},
   "outputs": [],
   "source": [
    "sectors['revenue'].mean().sort_values(ascending=False)"
   ]
  },
  {
   "cell_type": "code",
   "execution_count": null,
   "id": "2f134105",
   "metadata": {
    "scrolled": true
   },
   "outputs": [],
   "source": [
    "original_data\n"
   ]
  },
  {
   "cell_type": "code",
   "execution_count": null,
   "id": "165e8448",
   "metadata": {},
   "outputs": [],
   "source": [
    "delivery = pd.read_csv('deliveries.csv')"
   ]
  },
  {
   "cell_type": "code",
   "execution_count": null,
   "id": "a1f5c83f",
   "metadata": {},
   "outputs": [],
   "source": [
    "delivery.head()"
   ]
  },
  {
   "cell_type": "code",
   "execution_count": null,
   "id": "368f612a",
   "metadata": {},
   "outputs": [],
   "source": [
    "batsmans = delivery.groupby('batsman')\n",
    "batsmans"
   ]
  },
  {
   "cell_type": "code",
   "execution_count": null,
   "id": "d37b8ced",
   "metadata": {},
   "outputs": [],
   "source": [
    "batsmans.size().sort_values(ascending=False) #no of balls played by batsmans"
   ]
  },
  {
   "cell_type": "code",
   "execution_count": null,
   "id": "ca814d5e",
   "metadata": {},
   "outputs": [],
   "source": [
    "batsmans.get_group('V Kohli').sum()"
   ]
  },
  {
   "cell_type": "code",
   "execution_count": null,
   "id": "b8f72fff",
   "metadata": {},
   "outputs": [],
   "source": [
    "batsmans.get_group('V Kohli').head()"
   ]
  },
  {
   "cell_type": "code",
   "execution_count": null,
   "id": "a1eff996",
   "metadata": {},
   "outputs": [],
   "source": [
    "batsmans['batsman_runs'].sum().sort_values(ascending = False).head(5) #by this we can access the the batsman_runs column and then add the runs"
   ]
  },
  {
   "cell_type": "code",
   "execution_count": null,
   "id": "8b2a9a44",
   "metadata": {},
   "outputs": [],
   "source": [
    "delivery.head(10)"
   ]
  },
  {
   "cell_type": "code",
   "execution_count": null,
   "id": "7f6826da",
   "metadata": {},
   "outputs": [],
   "source": [
    "fours = delivery.groupby('batsman_runs')\n",
    "fours.size()"
   ]
  },
  {
   "cell_type": "code",
   "execution_count": null,
   "id": "bb478f0e",
   "metadata": {},
   "outputs": [],
   "source": [
    "fours.get_group(4)['batsman'].value_counts()"
   ]
  },
  {
   "cell_type": "markdown",
   "id": "e031f4fd",
   "metadata": {},
   "source": [
    "# ANOTHER METHOD FOR FINDING MAX 4'S HIT BY A BATSMAN\n"
   ]
  },
  {
   "cell_type": "code",
   "execution_count": null,
   "id": "1fb6e038",
   "metadata": {},
   "outputs": [],
   "source": [
    "mask=delivery['batsman_runs']==4    # gives a series of each row in the true or false \n",
    "mask                               # form whether the batsman_runs == 4 or not(i.e FALSE) "
   ]
  },
  {
   "cell_type": "code",
   "execution_count": null,
   "id": "72314783",
   "metadata": {},
   "outputs": [],
   "source": [
    "new_delivery=delivery[mask]\n",
    "new_delivery    "
   ]
  },
  {
   "cell_type": "code",
   "execution_count": null,
   "id": "c0bf544c",
   "metadata": {},
   "outputs": [],
   "source": [
    "new_delivery.shape[0]    # gives the total no of 4's hitted in ipl"
   ]
  },
  {
   "cell_type": "code",
   "execution_count": null,
   "id": "fa02420d",
   "metadata": {},
   "outputs": [],
   "source": [
    "# best WAY \n",
    "new_delivery.groupby('batsman')['batsman_runs'].count().sort_values(ascending=False)  \n",
    "# count()-->count the number of non-null (non-missing) values in a DataFrame or Series"
   ]
  },
  {
   "cell_type": "code",
   "execution_count": null,
   "id": "7c688797",
   "metadata": {},
   "outputs": [],
   "source": [
    "# amx runs scored by virat kohli against each team \n",
    "batsmans.get_group('V Kohli').groupby('bowling_team')['batsman_runs'].sum().sort_values(ascending=False)"
   ]
  },
  {
   "cell_type": "code",
   "execution_count": null,
   "id": "ed1b6bf5",
   "metadata": {},
   "outputs": [],
   "source": [
    "def run_scored(batsman_name):\n",
    "    vk=delivery.groupby('batsman').get_group(batsman_name)\n",
    "    return vk.groupby('bowling_team')['batsman_runs'].sum().sort_values(ascending=False).head(1)\n",
    "    "
   ]
  },
  {
   "cell_type": "code",
   "execution_count": null,
   "id": "450e2b6b",
   "metadata": {},
   "outputs": [],
   "source": [
    "run_scored('V Kohli')"
   ]
  },
  {
   "cell_type": "markdown",
   "id": "79436e00",
   "metadata": {},
   "source": [
    "# isin() function\n"
   ]
  },
  {
   "cell_type": "code",
   "execution_count": null,
   "id": "2220f09b",
   "metadata": {},
   "outputs": [],
   "source": [
    "# Find the most destructive death over batsman in the history of IPL\n",
    "# Strike Rate=(Number of runs/Number of balls)*100\n",
    "# Min batsman 200 balls in over 16-20"
   ]
  },
  {
   "cell_type": "code",
   "execution_count": null,
   "id": "860832e1",
   "metadata": {},
   "outputs": [],
   "source": [
    "death_over=delivery[delivery['over']>15]\n",
    "# delivery[delivery['over']>15]"
   ]
  },
  {
   "cell_type": "code",
   "execution_count": null,
   "id": "ee375ab1",
   "metadata": {
    "scrolled": true
   },
   "outputs": [],
   "source": [
    "all_batsman=death_over.groupby('batsman')['batsman_runs'].count()\n",
    "x=all_batsman>200\n",
    "batsman_list=all_batsman[x].index.tolist()\n",
    "batsman_list\n"
   ]
  },
  {
   "cell_type": "code",
   "execution_count": null,
   "id": "06cf3cf7",
   "metadata": {},
   "outputs": [],
   "source": [
    "# runs scored by all these 43 batsman\n",
    "# balls played by these 43 batsman \n",
    "\n",
    "final=death_over[death_over['batsman'].isin(batsman_list)]"
   ]
  },
  {
   "cell_type": "code",
   "execution_count": null,
   "id": "b31d934c",
   "metadata": {},
   "outputs": [],
   "source": [
    "runs=final.groupby('batsman')['batsman_runs'].sum()\n",
    "# runs"
   ]
  },
  {
   "cell_type": "code",
   "execution_count": null,
   "id": "3876dd53",
   "metadata": {},
   "outputs": [],
   "source": [
    "balls=final.groupby('batsman')['batsman_runs'].count()\n",
    "# balls"
   ]
  },
  {
   "cell_type": "code",
   "execution_count": null,
   "id": "46eccf6e",
   "metadata": {},
   "outputs": [],
   "source": [
    "strike_rate=(runs/balls)*100"
   ]
  },
  {
   "cell_type": "code",
   "execution_count": null,
   "id": "dfbb8e40",
   "metadata": {},
   "outputs": [],
   "source": [
    "sr=strike_rate.sort_values(ascending=False)\n",
    "# sr"
   ]
  },
  {
   "cell_type": "markdown",
   "id": "4a764811",
   "metadata": {},
   "source": [
    "# MERGE FUNCTION"
   ]
  },
  {
   "cell_type": "code",
   "execution_count": null,
   "id": "e365ff16",
   "metadata": {},
   "outputs": [],
   "source": [
    "new=delivery.merge(original_data,left_on='match_id',right_on='id')\n",
    "new.groupby(['season','batsman'])['batsman_runs'].sum().sort_values(ascending=False).reset_index().groupby('season').head(1).sort_values('season',ascending=True)[['season','batsman']]"
   ]
  },
  {
   "cell_type": "code",
   "execution_count": null,
   "id": "20804bce",
   "metadata": {},
   "outputs": [],
   "source": [
    "def orange_cap():\n",
    "    new=delivery.merge(original_data,left_on='match_id',right_on='id')\n",
    "    return new.groupby(['season','batsman'])['batsman_runs'].sum().sort_values(ascending=False).reset_index().groupby('season').head(1).sort_values('season',ascending=True)[['season','batsman']]"
   ]
  },
  {
   "cell_type": "code",
   "execution_count": null,
   "id": "4f246a53",
   "metadata": {},
   "outputs": [],
   "source": [
    "orange_cap()"
   ]
  },
  {
   "cell_type": "markdown",
   "id": "83e9227d",
   "metadata": {},
   "source": [
    "# pivot table"
   ]
  },
  {
   "cell_type": "code",
   "execution_count": null,
   "id": "beeb2479",
   "metadata": {
    "scrolled": true
   },
   "outputs": [],
   "source": [
    "mask=delivery['batsman_runs']==6\n",
    "six=delivery[mask]\n",
    "six.head()"
   ]
  },
  {
   "cell_type": "code",
   "execution_count": null,
   "id": "af4b074b",
   "metadata": {},
   "outputs": [],
   "source": [
    "pt=six.pivot_table(index='over', columns='batting_team', values='batsman_runs', aggfunc='count')"
   ]
  },
  {
   "cell_type": "code",
   "execution_count": null,
   "id": "b7ce080a",
   "metadata": {},
   "outputs": [],
   "source": [
    "import seaborn as sns"
   ]
  },
  {
   "cell_type": "code",
   "execution_count": null,
   "id": "c05b7e4b",
   "metadata": {
    "scrolled": true
   },
   "outputs": [],
   "source": [
    "sns.heatmap(pt)"
   ]
  },
  {
   "cell_type": "markdown",
   "id": "124998de",
   "metadata": {},
   "source": [
    "# corr function or corelation function\n"
   ]
  },
  {
   "cell_type": "code",
   "execution_count": null,
   "id": "762e702e",
   "metadata": {},
   "outputs": [],
   "source": [
    "original_data.corr()"
   ]
  },
  {
   "cell_type": "code",
   "execution_count": null,
   "id": "8f407260",
   "metadata": {},
   "outputs": [],
   "source": [
    "sns.heatmap(original_data.corr())"
   ]
  },
  {
   "cell_type": "markdown",
   "id": "c6bd696b",
   "metadata": {},
   "source": []
  },
  {
   "cell_type": "markdown",
   "id": "3e0d2d13",
   "metadata": {},
   "source": [
    "# rename functn"
   ]
  },
  {
   "cell_type": "code",
   "execution_count": null,
   "id": "15fe793f",
   "metadata": {},
   "outputs": [],
   "source": [
    "data.rename(columns={'city':'place','date':'dom'},inplace=True)\n"
   ]
  },
  {
   "cell_type": "code",
   "execution_count": null,
   "id": "01a93279",
   "metadata": {
    "scrolled": true
   },
   "outputs": [],
   "source": [
    "data"
   ]
  },
  {
   "cell_type": "markdown",
   "id": "ca55b3fb",
   "metadata": {},
   "source": [
    "# set_index() and reset_index()"
   ]
  },
  {
   "cell_type": "code",
   "execution_count": null,
   "id": "023d45d1",
   "metadata": {},
   "outputs": [],
   "source": [
    "original_data.head(3)"
   ]
  },
  {
   "cell_type": "code",
   "execution_count": null,
   "id": "438fc69f",
   "metadata": {},
   "outputs": [],
   "source": [
    "original_data.set_index('id',inplace=True)\n",
    "original_data.head(2)"
   ]
  },
  {
   "cell_type": "code",
   "execution_count": null,
   "id": "1f10db1d",
   "metadata": {},
   "outputs": [],
   "source": [
    "original_data.reset_index(inplace=True)"
   ]
  },
  {
   "cell_type": "code",
   "execution_count": null,
   "id": "6c511a0e",
   "metadata": {},
   "outputs": [],
   "source": [
    "original_data.head(2)"
   ]
  },
  {
   "cell_type": "code",
   "execution_count": null,
   "id": "94a4124c",
   "metadata": {},
   "outputs": [],
   "source": [
    "original_data['winner'].value_counts().reset_index()"
   ]
  },
  {
   "cell_type": "code",
   "execution_count": null,
   "id": "8d3f10ea",
   "metadata": {},
   "outputs": [],
   "source": []
  },
  {
   "cell_type": "markdown",
   "id": "68c44c2e",
   "metadata": {},
   "source": [
    "# HANDLING MISSING VALUES\n",
    "# Dropping missing data using dropna()"
   ]
  },
  {
   "cell_type": "code",
   "execution_count": null,
   "id": "7cf212d1",
   "metadata": {},
   "outputs": [],
   "source": [
    "new_data.shape"
   ]
  },
  {
   "cell_type": "code",
   "execution_count": null,
   "id": "6d52d9fc",
   "metadata": {
    "scrolled": true
   },
   "outputs": [],
   "source": [
    "new_data.dropna(how='all')"
   ]
  },
  {
   "cell_type": "code",
   "execution_count": null,
   "id": "70c5f3eb",
   "metadata": {},
   "outputs": [],
   "source": []
  }
 ],
 "metadata": {
  "kernelspec": {
   "display_name": "Python 3 (ipykernel)",
   "language": "python",
   "name": "python3"
  },
  "language_info": {
   "codemirror_mode": {
    "name": "ipython",
    "version": 3
   },
   "file_extension": ".py",
   "mimetype": "text/x-python",
   "name": "python",
   "nbconvert_exporter": "python",
   "pygments_lexer": "ipython3",
   "version": "3.11.5"
  }
 },
 "nbformat": 4,
 "nbformat_minor": 5
}
